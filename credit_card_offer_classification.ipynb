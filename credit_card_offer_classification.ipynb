{
 "cells": [
  {
   "cell_type": "markdown",
   "id": "4059d4e6-c55a-443b-8987-7313b4461681",
   "metadata": {},
   "source": [
    "# Credit card offer"
   ]
  },
  {
   "cell_type": "markdown",
   "id": "3fafc0d4-49b5-42cd-9000-e5f8ddeedd4a",
   "metadata": {},
   "source": [
    "## Import required libraries"
   ]
  },
  {
   "cell_type": "code",
   "execution_count": 1,
   "id": "6c9ee65f-fcbb-4674-9f6a-28d4328bc32d",
   "metadata": {},
   "outputs": [],
   "source": [
    "import pandas as pd\n",
    "import numpy as np\n",
    "import seaborn as sns\n",
    "import matplotlib.pyplot as plt\n",
    "\n",
    "from sklearn.model_selection import train_test_split\n",
    "from sklearn.preprocessing import OrdinalEncoder"
   ]
  },
  {
   "cell_type": "markdown",
   "id": "33f544d2-38ce-4601-a942-6a5c2e8eb130",
   "metadata": {},
   "source": [
    "## Define a goal"
   ]
  },
  {
   "cell_type": "markdown",
   "id": "41c66330-92aa-466f-80e5-f0d6d8aeecb7",
   "metadata": {},
   "source": [
    "**GOAL: Know if a customer will accept a credit card offer or not.**"
   ]
  },
  {
   "cell_type": "markdown",
   "id": "3cb0ad2d-99ec-4b63-842f-5be7409321d3",
   "metadata": {},
   "source": [
    "## Get data"
   ]
  },
  {
   "cell_type": "code",
   "execution_count": 2,
   "id": "c78483d7-46d3-478f-8d58-3634f3a26edd",
   "metadata": {},
   "outputs": [],
   "source": [
    "headers =  ['customer_number', 'offer_accepted', 'reward', 'mailer_type', 'income_level', 'bank_accounts_open', 'overdraft_protection', 'credit_rating', 'credit_cards_held', 'homes_owned', 'household_size', 'own_your_home', 'avg_balance', 'balance_q1',\n",
    "            'balance_q2', 'balance_q3', 'balance_q4']"
   ]
  },
  {
   "cell_type": "code",
   "execution_count": 3,
   "id": "44e2afe3-5a8b-4960-9568-7f1f93291030",
   "metadata": {},
   "outputs": [],
   "source": [
    "data = pd.read_csv('./creditcardmarketing.csv', header=None, names = headers)"
   ]
  },
  {
   "cell_type": "code",
   "execution_count": 4,
   "id": "2b9d9ade-c9e4-4128-82aa-4439fb87e0ce",
   "metadata": {},
   "outputs": [
    {
     "data": {
      "text/html": [
       "<div>\n",
       "<style scoped>\n",
       "    .dataframe tbody tr th:only-of-type {\n",
       "        vertical-align: middle;\n",
       "    }\n",
       "\n",
       "    .dataframe tbody tr th {\n",
       "        vertical-align: top;\n",
       "    }\n",
       "\n",
       "    .dataframe thead th {\n",
       "        text-align: right;\n",
       "    }\n",
       "</style>\n",
       "<table border=\"1\" class=\"dataframe\">\n",
       "  <thead>\n",
       "    <tr style=\"text-align: right;\">\n",
       "      <th></th>\n",
       "      <th>customer_number</th>\n",
       "      <th>offer_accepted</th>\n",
       "      <th>reward</th>\n",
       "      <th>mailer_type</th>\n",
       "      <th>income_level</th>\n",
       "      <th>bank_accounts_open</th>\n",
       "      <th>overdraft_protection</th>\n",
       "      <th>credit_rating</th>\n",
       "      <th>credit_cards_held</th>\n",
       "      <th>homes_owned</th>\n",
       "      <th>household_size</th>\n",
       "      <th>own_your_home</th>\n",
       "      <th>avg_balance</th>\n",
       "      <th>balance_q1</th>\n",
       "      <th>balance_q2</th>\n",
       "      <th>balance_q3</th>\n",
       "      <th>balance_q4</th>\n",
       "    </tr>\n",
       "  </thead>\n",
       "  <tbody>\n",
       "    <tr>\n",
       "      <th>0</th>\n",
       "      <td>1</td>\n",
       "      <td>No</td>\n",
       "      <td>Air Miles</td>\n",
       "      <td>Letter</td>\n",
       "      <td>High</td>\n",
       "      <td>1</td>\n",
       "      <td>No</td>\n",
       "      <td>High</td>\n",
       "      <td>2</td>\n",
       "      <td>1</td>\n",
       "      <td>4</td>\n",
       "      <td>No</td>\n",
       "      <td>1160.75</td>\n",
       "      <td>1669.0</td>\n",
       "      <td>877.0</td>\n",
       "      <td>1095.0</td>\n",
       "      <td>1002.0</td>\n",
       "    </tr>\n",
       "    <tr>\n",
       "      <th>1</th>\n",
       "      <td>2</td>\n",
       "      <td>No</td>\n",
       "      <td>Air Miles</td>\n",
       "      <td>Letter</td>\n",
       "      <td>Medium</td>\n",
       "      <td>1</td>\n",
       "      <td>No</td>\n",
       "      <td>Medium</td>\n",
       "      <td>2</td>\n",
       "      <td>2</td>\n",
       "      <td>5</td>\n",
       "      <td>Yes</td>\n",
       "      <td>147.25</td>\n",
       "      <td>39.0</td>\n",
       "      <td>106.0</td>\n",
       "      <td>78.0</td>\n",
       "      <td>366.0</td>\n",
       "    </tr>\n",
       "    <tr>\n",
       "      <th>2</th>\n",
       "      <td>3</td>\n",
       "      <td>No</td>\n",
       "      <td>Air Miles</td>\n",
       "      <td>Postcard</td>\n",
       "      <td>High</td>\n",
       "      <td>2</td>\n",
       "      <td>No</td>\n",
       "      <td>Medium</td>\n",
       "      <td>2</td>\n",
       "      <td>1</td>\n",
       "      <td>2</td>\n",
       "      <td>Yes</td>\n",
       "      <td>276.50</td>\n",
       "      <td>367.0</td>\n",
       "      <td>352.0</td>\n",
       "      <td>145.0</td>\n",
       "      <td>242.0</td>\n",
       "    </tr>\n",
       "    <tr>\n",
       "      <th>3</th>\n",
       "      <td>4</td>\n",
       "      <td>No</td>\n",
       "      <td>Air Miles</td>\n",
       "      <td>Letter</td>\n",
       "      <td>Medium</td>\n",
       "      <td>2</td>\n",
       "      <td>No</td>\n",
       "      <td>High</td>\n",
       "      <td>1</td>\n",
       "      <td>1</td>\n",
       "      <td>4</td>\n",
       "      <td>No</td>\n",
       "      <td>1219.00</td>\n",
       "      <td>1578.0</td>\n",
       "      <td>1760.0</td>\n",
       "      <td>1119.0</td>\n",
       "      <td>419.0</td>\n",
       "    </tr>\n",
       "    <tr>\n",
       "      <th>4</th>\n",
       "      <td>5</td>\n",
       "      <td>No</td>\n",
       "      <td>Air Miles</td>\n",
       "      <td>Letter</td>\n",
       "      <td>Medium</td>\n",
       "      <td>1</td>\n",
       "      <td>No</td>\n",
       "      <td>Medium</td>\n",
       "      <td>2</td>\n",
       "      <td>1</td>\n",
       "      <td>6</td>\n",
       "      <td>Yes</td>\n",
       "      <td>1211.00</td>\n",
       "      <td>2140.0</td>\n",
       "      <td>1357.0</td>\n",
       "      <td>982.0</td>\n",
       "      <td>365.0</td>\n",
       "    </tr>\n",
       "  </tbody>\n",
       "</table>\n",
       "</div>"
      ],
      "text/plain": [
       "   customer_number offer_accepted     reward mailer_type income_level   \n",
       "0                1             No  Air Miles      Letter         High  \\\n",
       "1                2             No  Air Miles      Letter       Medium   \n",
       "2                3             No  Air Miles    Postcard         High   \n",
       "3                4             No  Air Miles      Letter       Medium   \n",
       "4                5             No  Air Miles      Letter       Medium   \n",
       "\n",
       "   bank_accounts_open overdraft_protection credit_rating  credit_cards_held   \n",
       "0                   1                   No          High                  2  \\\n",
       "1                   1                   No        Medium                  2   \n",
       "2                   2                   No        Medium                  2   \n",
       "3                   2                   No          High                  1   \n",
       "4                   1                   No        Medium                  2   \n",
       "\n",
       "   homes_owned  household_size own_your_home  avg_balance  balance_q1   \n",
       "0            1               4            No      1160.75      1669.0  \\\n",
       "1            2               5           Yes       147.25        39.0   \n",
       "2            1               2           Yes       276.50       367.0   \n",
       "3            1               4            No      1219.00      1578.0   \n",
       "4            1               6           Yes      1211.00      2140.0   \n",
       "\n",
       "   balance_q2  balance_q3  balance_q4  \n",
       "0       877.0      1095.0      1002.0  \n",
       "1       106.0        78.0       366.0  \n",
       "2       352.0       145.0       242.0  \n",
       "3      1760.0      1119.0       419.0  \n",
       "4      1357.0       982.0       365.0  "
      ]
     },
     "execution_count": 4,
     "metadata": {},
     "output_type": "execute_result"
    }
   ],
   "source": [
    "data.head()"
   ]
  },
  {
   "cell_type": "code",
   "execution_count": 5,
   "id": "87709565-1518-4128-9e88-7af4b8a35743",
   "metadata": {},
   "outputs": [
    {
     "data": {
      "text/plain": [
       "(18000, 17)"
      ]
     },
     "execution_count": 5,
     "metadata": {},
     "output_type": "execute_result"
    }
   ],
   "source": [
    "data.shape"
   ]
  },
  {
   "cell_type": "markdown",
   "id": "792ef4b8-1d8d-490f-96e1-0869118956d9",
   "metadata": {},
   "source": [
    "## Explore data"
   ]
  },
  {
   "cell_type": "code",
   "execution_count": 6,
   "id": "c6f48548-895b-4bf5-a3eb-fa7dac29da52",
   "metadata": {},
   "outputs": [
    {
     "name": "stdout",
     "output_type": "stream",
     "text": [
      "<class 'pandas.core.frame.DataFrame'>\n",
      "RangeIndex: 18000 entries, 0 to 17999\n",
      "Data columns (total 17 columns):\n",
      " #   Column                Non-Null Count  Dtype  \n",
      "---  ------                --------------  -----  \n",
      " 0   customer_number       18000 non-null  int64  \n",
      " 1   offer_accepted        18000 non-null  object \n",
      " 2   reward                18000 non-null  object \n",
      " 3   mailer_type           18000 non-null  object \n",
      " 4   income_level          18000 non-null  object \n",
      " 5   bank_accounts_open    18000 non-null  int64  \n",
      " 6   overdraft_protection  18000 non-null  object \n",
      " 7   credit_rating         18000 non-null  object \n",
      " 8   credit_cards_held     18000 non-null  int64  \n",
      " 9   homes_owned           18000 non-null  int64  \n",
      " 10  household_size        18000 non-null  int64  \n",
      " 11  own_your_home         18000 non-null  object \n",
      " 12  avg_balance           17976 non-null  float64\n",
      " 13  balance_q1            17976 non-null  float64\n",
      " 14  balance_q2            17976 non-null  float64\n",
      " 15  balance_q3            17976 non-null  float64\n",
      " 16  balance_q4            17976 non-null  float64\n",
      "dtypes: float64(5), int64(5), object(7)\n",
      "memory usage: 2.3+ MB\n"
     ]
    }
   ],
   "source": [
    "data.info()"
   ]
  },
  {
   "cell_type": "code",
   "execution_count": 7,
   "id": "433f9093-7a39-420e-a947-3d60be01209b",
   "metadata": {},
   "outputs": [
    {
     "data": {
      "text/plain": [
       "customer_number          0\n",
       "offer_accepted           0\n",
       "reward                   0\n",
       "mailer_type              0\n",
       "income_level             0\n",
       "bank_accounts_open       0\n",
       "overdraft_protection     0\n",
       "credit_rating            0\n",
       "credit_cards_held        0\n",
       "homes_owned              0\n",
       "household_size           0\n",
       "own_your_home            0\n",
       "avg_balance             24\n",
       "balance_q1              24\n",
       "balance_q2              24\n",
       "balance_q3              24\n",
       "balance_q4              24\n",
       "dtype: int64"
      ]
     },
     "execution_count": 7,
     "metadata": {},
     "output_type": "execute_result"
    }
   ],
   "source": [
    "data.isna().sum()"
   ]
  },
  {
   "cell_type": "code",
   "execution_count": 8,
   "id": "c766074e-7d31-4b76-8e12-092092f5bb8d",
   "metadata": {},
   "outputs": [
    {
     "data": {
      "text/plain": [
       "customer_number         0.000000\n",
       "offer_accepted          0.000000\n",
       "reward                  0.000000\n",
       "mailer_type             0.000000\n",
       "income_level            0.000000\n",
       "bank_accounts_open      0.000000\n",
       "overdraft_protection    0.000000\n",
       "credit_rating           0.000000\n",
       "credit_cards_held       0.000000\n",
       "homes_owned             0.000000\n",
       "household_size          0.000000\n",
       "own_your_home           0.000000\n",
       "avg_balance             0.001333\n",
       "balance_q1              0.001333\n",
       "balance_q2              0.001333\n",
       "balance_q3              0.001333\n",
       "balance_q4              0.001333\n",
       "dtype: float64"
      ]
     },
     "execution_count": 8,
     "metadata": {},
     "output_type": "execute_result"
    }
   ],
   "source": [
    "data.isna().sum() / data.shape[0]"
   ]
  },
  {
   "cell_type": "markdown",
   "id": "e013d24b-60b7-4102-bdd3-23f5f484ac6e",
   "metadata": {},
   "source": [
    "* We have null values so we need to know what we will do with them."
   ]
  },
  {
   "cell_type": "markdown",
   "id": "3d77b6f1-985a-4a4e-a79d-bd9c55c07a62",
   "metadata": {
    "tags": []
   },
   "source": [
    "## Dealing with missing values"
   ]
  },
  {
   "cell_type": "code",
   "execution_count": 9,
   "id": "0596ea32-cd99-42ac-a1e8-a08285943d8d",
   "metadata": {},
   "outputs": [
    {
     "data": {
      "text/plain": [
       "avg_balance    24\n",
       "balance_q1     24\n",
       "balance_q2     24\n",
       "balance_q3     24\n",
       "balance_q4     24\n",
       "dtype: int64"
      ]
     },
     "execution_count": 9,
     "metadata": {},
     "output_type": "execute_result"
    }
   ],
   "source": [
    "data.isna().sum()[data.isna().sum() > 0]"
   ]
  },
  {
   "cell_type": "markdown",
   "id": "587dd5f3-700e-4302-be00-7f96233f564d",
   "metadata": {},
   "source": [
    "* I decided to remove those observations because my dataset has a 18,000 observations, I think that 24 are deprecable."
   ]
  },
  {
   "cell_type": "code",
   "execution_count": 10,
   "id": "901cc041-830a-4b5f-887c-5aaf91ee368a",
   "metadata": {},
   "outputs": [],
   "source": [
    "data = data.dropna()"
   ]
  },
  {
   "cell_type": "code",
   "execution_count": 11,
   "id": "55a88a77-220a-4f8e-b983-dd25c09a2b29",
   "metadata": {},
   "outputs": [
    {
     "data": {
      "text/plain": [
       "(17976, 17)"
      ]
     },
     "execution_count": 11,
     "metadata": {},
     "output_type": "execute_result"
    }
   ],
   "source": [
    "data.shape"
   ]
  },
  {
   "cell_type": "markdown",
   "id": "a1ee022d-a845-4496-a54f-3186eea5267d",
   "metadata": {
    "tags": []
   },
   "source": [
    "## Split data into categorical and numerical"
   ]
  },
  {
   "cell_type": "markdown",
   "id": "cf6f8b05-3790-468a-83d8-0cc457dccc6b",
   "metadata": {
    "tags": []
   },
   "source": [
    "### Categorical data"
   ]
  },
  {
   "cell_type": "code",
   "execution_count": 12,
   "id": "f011bebd-a241-49ea-bc94-c5028e6b6352",
   "metadata": {},
   "outputs": [],
   "source": [
    "categorical_data = data.select_dtypes(object)"
   ]
  },
  {
   "cell_type": "code",
   "execution_count": 13,
   "id": "984ea8ad-a592-47fc-807e-1df079a6a6d6",
   "metadata": {},
   "outputs": [
    {
     "data": {
      "text/plain": [
       "Index(['offer_accepted', 'reward', 'mailer_type', 'income_level',\n",
       "       'overdraft_protection', 'credit_rating', 'own_your_home'],\n",
       "      dtype='object')"
      ]
     },
     "execution_count": 13,
     "metadata": {},
     "output_type": "execute_result"
    }
   ],
   "source": [
    "categorical_data.columns"
   ]
  },
  {
   "cell_type": "code",
   "execution_count": 14,
   "id": "b1b8675f-6a63-4d78-9f11-e0af8b024ebe",
   "metadata": {},
   "outputs": [
    {
     "data": {
      "image/png": "[encoded data removed]",
      "text/plain": [
       "<Figure size 640x480 with 1 Axes>"
      ]
     },
     "metadata": {},
     "output_type": "display_data"
    },
    {
     "data": {
      "image/png": "[encoded data removed]",
      "text/plain": [
       "<Figure size 640x480 with 1 Axes>"
      ]
     },
     "metadata": {},
     "output_type": "display_data"
    },
    {
     "data": {
      "image/png": "[encoded data removed]",
      "text/plain": [
       "<Figure size 640x480 with 1 Axes>"
      ]
     },
     "metadata": {},
     "output_type": "display_data"
    },
    {
     "data": {
      "image/png": "[encoded data removed]",
      "text/plain": [
       "<Figure size 640x480 with 1 Axes>"
      ]
     },
     "metadata": {},
     "output_type": "display_data"
    },
    {
     "data": {
      "image/png": "[encoded data removed]",
      "text/plain": [
       "<Figure size 640x480 with 1 Axes>"
      ]
     },
     "metadata": {},
     "output_type": "display_data"
    },
    {
     "data": {
      "image/png": "[encoded data removed]",
      "text/plain": [
       "<Figure size 640x480 with 1 Axes>"
      ]
     },
     "metadata": {},
     "output_type": "display_data"
    }
   ],
   "source": [
    "for column in categorical_data.drop(columns=['offer_accepted']).columns:\n",
    "    sns.barplot(data = data, x = categorical_data[column].unique(), y = categorical_data[column].value_counts(dropna=False))\n",
    "    plt.xlabel(column)\n",
    "    plt.show()"
   ]
  },
  {
   "cell_type": "code",
   "execution_count": 15,
   "id": "1e52bee4-a7ac-4c1a-8051-d6e1bfa9a0a2",
   "metadata": {},
   "outputs": [],
   "source": [
    "# Encoding data\n",
    "categories = [['Low', 'Medium', 'High']]\n",
    "\n",
    "ordinal_encoder = OrdinalEncoder(categories=categories)"
   ]
  },
  {
   "cell_type": "code",
   "execution_count": 16,
   "id": "16711d72-261b-44c0-b031-ca1ea44ba1ca",
   "metadata": {},
   "outputs": [],
   "source": [
    "income_oe_data = ordinal_encoder.fit_transform(categorical_data[['income_level']])"
   ]
  },
  {
   "cell_type": "code",
   "execution_count": 17,
   "id": "2fef9b31-3295-4b43-8c4a-d4471d2a99d0",
   "metadata": {},
   "outputs": [],
   "source": [
    "rating_oe_data = ordinal_encoder.fit_transform(categorical_data[['credit_rating']])"
   ]
  },
  {
   "cell_type": "code",
   "execution_count": 18,
   "id": "03449b7e-b695-4661-a935-25fa8b0fa5c5",
   "metadata": {},
   "outputs": [],
   "source": [
    "categorical_data = categorical_data.drop(columns=['income_level', 'credit_rating', 'offer_accepted'])"
   ]
  },
  {
   "cell_type": "code",
   "execution_count": 19,
   "id": "b7017d1f-2a8b-4b5c-8364-c59604f0f57e",
   "metadata": {},
   "outputs": [
    {
     "data": {
      "text/plain": [
       "Index(['reward', 'mailer_type', 'overdraft_protection', 'own_your_home'], dtype='object')"
      ]
     },
     "execution_count": 19,
     "metadata": {},
     "output_type": "execute_result"
    }
   ],
   "source": [
    "categorical_data.columns"
   ]
  },
  {
   "cell_type": "code",
   "execution_count": 20,
   "id": "98eedb40-1b6b-4b6a-8251-0b7e57144a99",
   "metadata": {},
   "outputs": [],
   "source": [
    "categorical_data = pd.get_dummies(categorical_data, drop_first=True)"
   ]
  },
  {
   "cell_type": "code",
   "execution_count": 21,
   "id": "33e4ad26-014e-4278-8aea-df6195d9bcd4",
   "metadata": {},
   "outputs": [],
   "source": [
    "categorical_data = categorical_data.reset_index(drop=True)"
   ]
  },
  {
   "cell_type": "code",
   "execution_count": 22,
   "id": "fc8d4cbc-8063-4143-a83f-bb2a3532443b",
   "metadata": {},
   "outputs": [
    {
     "data": {
      "text/html": [
       "<div>\n",
       "<style scoped>\n",
       "    .dataframe tbody tr th:only-of-type {\n",
       "        vertical-align: middle;\n",
       "    }\n",
       "\n",
       "    .dataframe tbody tr th {\n",
       "        vertical-align: top;\n",
       "    }\n",
       "\n",
       "    .dataframe thead th {\n",
       "        text-align: right;\n",
       "    }\n",
       "</style>\n",
       "<table border=\"1\" class=\"dataframe\">\n",
       "  <thead>\n",
       "    <tr style=\"text-align: right;\">\n",
       "      <th></th>\n",
       "      <th>reward_Cash Back</th>\n",
       "      <th>reward_Points</th>\n",
       "      <th>mailer_type_Postcard</th>\n",
       "      <th>overdraft_protection_Yes</th>\n",
       "      <th>own_your_home_Yes</th>\n",
       "    </tr>\n",
       "  </thead>\n",
       "  <tbody>\n",
       "    <tr>\n",
       "      <th>0</th>\n",
       "      <td>False</td>\n",
       "      <td>False</td>\n",
       "      <td>False</td>\n",
       "      <td>False</td>\n",
       "      <td>False</td>\n",
       "    </tr>\n",
       "    <tr>\n",
       "      <th>1</th>\n",
       "      <td>False</td>\n",
       "      <td>False</td>\n",
       "      <td>False</td>\n",
       "      <td>False</td>\n",
       "      <td>True</td>\n",
       "    </tr>\n",
       "    <tr>\n",
       "      <th>2</th>\n",
       "      <td>False</td>\n",
       "      <td>False</td>\n",
       "      <td>True</td>\n",
       "      <td>False</td>\n",
       "      <td>True</td>\n",
       "    </tr>\n",
       "    <tr>\n",
       "      <th>3</th>\n",
       "      <td>False</td>\n",
       "      <td>False</td>\n",
       "      <td>False</td>\n",
       "      <td>False</td>\n",
       "      <td>False</td>\n",
       "    </tr>\n",
       "    <tr>\n",
       "      <th>4</th>\n",
       "      <td>False</td>\n",
       "      <td>False</td>\n",
       "      <td>False</td>\n",
       "      <td>False</td>\n",
       "      <td>True</td>\n",
       "    </tr>\n",
       "    <tr>\n",
       "      <th>...</th>\n",
       "      <td>...</td>\n",
       "      <td>...</td>\n",
       "      <td>...</td>\n",
       "      <td>...</td>\n",
       "      <td>...</td>\n",
       "    </tr>\n",
       "    <tr>\n",
       "      <th>17971</th>\n",
       "      <td>True</td>\n",
       "      <td>False</td>\n",
       "      <td>False</td>\n",
       "      <td>False</td>\n",
       "      <td>True</td>\n",
       "    </tr>\n",
       "    <tr>\n",
       "      <th>17972</th>\n",
       "      <td>True</td>\n",
       "      <td>False</td>\n",
       "      <td>False</td>\n",
       "      <td>False</td>\n",
       "      <td>True</td>\n",
       "    </tr>\n",
       "    <tr>\n",
       "      <th>17973</th>\n",
       "      <td>True</td>\n",
       "      <td>False</td>\n",
       "      <td>False</td>\n",
       "      <td>False</td>\n",
       "      <td>False</td>\n",
       "    </tr>\n",
       "    <tr>\n",
       "      <th>17974</th>\n",
       "      <td>True</td>\n",
       "      <td>False</td>\n",
       "      <td>False</td>\n",
       "      <td>False</td>\n",
       "      <td>True</td>\n",
       "    </tr>\n",
       "    <tr>\n",
       "      <th>17975</th>\n",
       "      <td>True</td>\n",
       "      <td>False</td>\n",
       "      <td>False</td>\n",
       "      <td>False</td>\n",
       "      <td>False</td>\n",
       "    </tr>\n",
       "  </tbody>\n",
       "</table>\n",
       "<p>17976 rows × 5 columns</p>\n",
       "</div>"
      ],
      "text/plain": [
       "       reward_Cash Back  reward_Points  mailer_type_Postcard   \n",
       "0                 False          False                 False  \\\n",
       "1                 False          False                 False   \n",
       "2                 False          False                  True   \n",
       "3                 False          False                 False   \n",
       "4                 False          False                 False   \n",
       "...                 ...            ...                   ...   \n",
       "17971              True          False                 False   \n",
       "17972              True          False                 False   \n",
       "17973              True          False                 False   \n",
       "17974              True          False                 False   \n",
       "17975              True          False                 False   \n",
       "\n",
       "       overdraft_protection_Yes  own_your_home_Yes  \n",
       "0                         False              False  \n",
       "1                         False               True  \n",
       "2                         False               True  \n",
       "3                         False              False  \n",
       "4                         False               True  \n",
       "...                         ...                ...  \n",
       "17971                     False               True  \n",
       "17972                     False               True  \n",
       "17973                     False              False  \n",
       "17974                     False               True  \n",
       "17975                     False              False  \n",
       "\n",
       "[17976 rows x 5 columns]"
      ]
     },
     "execution_count": 22,
     "metadata": {},
     "output_type": "execute_result"
    }
   ],
   "source": [
    "categorical_data"
   ]
  },
  {
   "cell_type": "code",
   "execution_count": 23,
   "id": "f941b97e-5e13-4c16-a776-51fd9cc68309",
   "metadata": {},
   "outputs": [],
   "source": [
    "income_data = pd.DataFrame(income_oe_data, columns=['income_level'])"
   ]
  },
  {
   "cell_type": "code",
   "execution_count": 24,
   "id": "130da70c-7a95-4369-ae7f-8fec479636f2",
   "metadata": {},
   "outputs": [],
   "source": [
    "income_data = income_data.reset_index(drop = True)"
   ]
  },
  {
   "cell_type": "code",
   "execution_count": 25,
   "id": "735bfc90-ecbd-435d-8997-c60d8904c8c3",
   "metadata": {},
   "outputs": [
    {
     "data": {
      "text/html": [
       "<div>\n",
       "<style scoped>\n",
       "    .dataframe tbody tr th:only-of-type {\n",
       "        vertical-align: middle;\n",
       "    }\n",
       "\n",
       "    .dataframe tbody tr th {\n",
       "        vertical-align: top;\n",
       "    }\n",
       "\n",
       "    .dataframe thead th {\n",
       "        text-align: right;\n",
       "    }\n",
       "</style>\n",
       "<table border=\"1\" class=\"dataframe\">\n",
       "  <thead>\n",
       "    <tr style=\"text-align: right;\">\n",
       "      <th></th>\n",
       "      <th>income_level</th>\n",
       "    </tr>\n",
       "  </thead>\n",
       "  <tbody>\n",
       "    <tr>\n",
       "      <th>0</th>\n",
       "      <td>2.0</td>\n",
       "    </tr>\n",
       "    <tr>\n",
       "      <th>1</th>\n",
       "      <td>1.0</td>\n",
       "    </tr>\n",
       "    <tr>\n",
       "      <th>2</th>\n",
       "      <td>2.0</td>\n",
       "    </tr>\n",
       "    <tr>\n",
       "      <th>3</th>\n",
       "      <td>1.0</td>\n",
       "    </tr>\n",
       "    <tr>\n",
       "      <th>4</th>\n",
       "      <td>1.0</td>\n",
       "    </tr>\n",
       "    <tr>\n",
       "      <th>...</th>\n",
       "      <td>...</td>\n",
       "    </tr>\n",
       "    <tr>\n",
       "      <th>17971</th>\n",
       "      <td>2.0</td>\n",
       "    </tr>\n",
       "    <tr>\n",
       "      <th>17972</th>\n",
       "      <td>2.0</td>\n",
       "    </tr>\n",
       "    <tr>\n",
       "      <th>17973</th>\n",
       "      <td>2.0</td>\n",
       "    </tr>\n",
       "    <tr>\n",
       "      <th>17974</th>\n",
       "      <td>1.0</td>\n",
       "    </tr>\n",
       "    <tr>\n",
       "      <th>17975</th>\n",
       "      <td>0.0</td>\n",
       "    </tr>\n",
       "  </tbody>\n",
       "</table>\n",
       "<p>17976 rows × 1 columns</p>\n",
       "</div>"
      ],
      "text/plain": [
       "       income_level\n",
       "0               2.0\n",
       "1               1.0\n",
       "2               2.0\n",
       "3               1.0\n",
       "4               1.0\n",
       "...             ...\n",
       "17971           2.0\n",
       "17972           2.0\n",
       "17973           2.0\n",
       "17974           1.0\n",
       "17975           0.0\n",
       "\n",
       "[17976 rows x 1 columns]"
      ]
     },
     "execution_count": 25,
     "metadata": {},
     "output_type": "execute_result"
    }
   ],
   "source": [
    "income_data"
   ]
  },
  {
   "cell_type": "code",
   "execution_count": 26,
   "id": "74bee881-0e27-4b1d-85e5-e6e1bf2a5c94",
   "metadata": {},
   "outputs": [
    {
     "data": {
      "text/plain": [
       "(17976, 1)"
      ]
     },
     "execution_count": 26,
     "metadata": {},
     "output_type": "execute_result"
    }
   ],
   "source": [
    "income_data.shape"
   ]
  },
  {
   "cell_type": "code",
   "execution_count": 27,
   "id": "8dce7341-0b5e-4a73-a9c0-c428525d9338",
   "metadata": {},
   "outputs": [],
   "source": [
    "rating_data = pd.DataFrame(rating_oe_data, columns=['credit_rating'])"
   ]
  },
  {
   "cell_type": "code",
   "execution_count": 28,
   "id": "383fac9e-d9c4-41f9-98d6-1e0dbed71afa",
   "metadata": {},
   "outputs": [],
   "source": [
    "rating_data = rating_data.reset_index(drop = True)"
   ]
  },
  {
   "cell_type": "code",
   "execution_count": 30,
   "id": "27c3ca2a-ce8c-4afb-ab28-2c2878b9d41f",
   "metadata": {},
   "outputs": [
    {
     "data": {
      "text/html": [
       "<div>\n",
       "<style scoped>\n",
       "    .dataframe tbody tr th:only-of-type {\n",
       "        vertical-align: middle;\n",
       "    }\n",
       "\n",
       "    .dataframe tbody tr th {\n",
       "        vertical-align: top;\n",
       "    }\n",
       "\n",
       "    .dataframe thead th {\n",
       "        text-align: right;\n",
       "    }\n",
       "</style>\n",
       "<table border=\"1\" class=\"dataframe\">\n",
       "  <thead>\n",
       "    <tr style=\"text-align: right;\">\n",
       "      <th></th>\n",
       "      <th>credit_rating</th>\n",
       "    </tr>\n",
       "  </thead>\n",
       "  <tbody>\n",
       "    <tr>\n",
       "      <th>0</th>\n",
       "      <td>2.0</td>\n",
       "    </tr>\n",
       "    <tr>\n",
       "      <th>1</th>\n",
       "      <td>1.0</td>\n",
       "    </tr>\n",
       "    <tr>\n",
       "      <th>2</th>\n",
       "      <td>1.0</td>\n",
       "    </tr>\n",
       "    <tr>\n",
       "      <th>3</th>\n",
       "      <td>2.0</td>\n",
       "    </tr>\n",
       "    <tr>\n",
       "      <th>4</th>\n",
       "      <td>1.0</td>\n",
       "    </tr>\n",
       "    <tr>\n",
       "      <th>...</th>\n",
       "      <td>...</td>\n",
       "    </tr>\n",
       "    <tr>\n",
       "      <th>17971</th>\n",
       "      <td>0.0</td>\n",
       "    </tr>\n",
       "    <tr>\n",
       "      <th>17972</th>\n",
       "      <td>0.0</td>\n",
       "    </tr>\n",
       "    <tr>\n",
       "      <th>17973</th>\n",
       "      <td>0.0</td>\n",
       "    </tr>\n",
       "    <tr>\n",
       "      <th>17974</th>\n",
       "      <td>1.0</td>\n",
       "    </tr>\n",
       "    <tr>\n",
       "      <th>17975</th>\n",
       "      <td>1.0</td>\n",
       "    </tr>\n",
       "  </tbody>\n",
       "</table>\n",
       "<p>17976 rows × 1 columns</p>\n",
       "</div>"
      ],
      "text/plain": [
       "       credit_rating\n",
       "0                2.0\n",
       "1                1.0\n",
       "2                1.0\n",
       "3                2.0\n",
       "4                1.0\n",
       "...              ...\n",
       "17971            0.0\n",
       "17972            0.0\n",
       "17973            0.0\n",
       "17974            1.0\n",
       "17975            1.0\n",
       "\n",
       "[17976 rows x 1 columns]"
      ]
     },
     "execution_count": 30,
     "metadata": {},
     "output_type": "execute_result"
    }
   ],
   "source": [
    "rating_data"
   ]
  },
  {
   "cell_type": "code",
   "execution_count": 29,
   "id": "6e81d3ce-cb56-4561-95b7-6cb9ca0d7524",
   "metadata": {},
   "outputs": [
    {
     "data": {
      "text/plain": [
       "(17976, 1)"
      ]
     },
     "execution_count": 29,
     "metadata": {},
     "output_type": "execute_result"
    }
   ],
   "source": [
    "rating_data.shape"
   ]
  },
  {
   "cell_type": "code",
   "execution_count": 31,
   "id": "4e898115-9488-4675-810a-55fd4a228fe3",
   "metadata": {},
   "outputs": [],
   "source": [
    "categorical_data = pd.concat([categorical_data, income_data, rating_data], axis = 1)"
   ]
  },
  {
   "cell_type": "code",
   "execution_count": 32,
   "id": "8e25366f-b2ff-45cb-bea2-032a9321ffe3",
   "metadata": {},
   "outputs": [
    {
     "data": {
      "text/html": [
       "<div>\n",
       "<style scoped>\n",
       "    .dataframe tbody tr th:only-of-type {\n",
       "        vertical-align: middle;\n",
       "    }\n",
       "\n",
       "    .dataframe tbody tr th {\n",
       "        vertical-align: top;\n",
       "    }\n",
       "\n",
       "    .dataframe thead th {\n",
       "        text-align: right;\n",
       "    }\n",
       "</style>\n",
       "<table border=\"1\" class=\"dataframe\">\n",
       "  <thead>\n",
       "    <tr style=\"text-align: right;\">\n",
       "      <th></th>\n",
       "      <th>reward_Cash Back</th>\n",
       "      <th>reward_Points</th>\n",
       "      <th>mailer_type_Postcard</th>\n",
       "      <th>overdraft_protection_Yes</th>\n",
       "      <th>own_your_home_Yes</th>\n",
       "      <th>income_level</th>\n",
       "      <th>credit_rating</th>\n",
       "    </tr>\n",
       "  </thead>\n",
       "  <tbody>\n",
       "    <tr>\n",
       "      <th>0</th>\n",
       "      <td>False</td>\n",
       "      <td>False</td>\n",
       "      <td>False</td>\n",
       "      <td>False</td>\n",
       "      <td>False</td>\n",
       "      <td>2.0</td>\n",
       "      <td>2.0</td>\n",
       "    </tr>\n",
       "    <tr>\n",
       "      <th>1</th>\n",
       "      <td>False</td>\n",
       "      <td>False</td>\n",
       "      <td>False</td>\n",
       "      <td>False</td>\n",
       "      <td>True</td>\n",
       "      <td>1.0</td>\n",
       "      <td>1.0</td>\n",
       "    </tr>\n",
       "    <tr>\n",
       "      <th>2</th>\n",
       "      <td>False</td>\n",
       "      <td>False</td>\n",
       "      <td>True</td>\n",
       "      <td>False</td>\n",
       "      <td>True</td>\n",
       "      <td>2.0</td>\n",
       "      <td>1.0</td>\n",
       "    </tr>\n",
       "    <tr>\n",
       "      <th>3</th>\n",
       "      <td>False</td>\n",
       "      <td>False</td>\n",
       "      <td>False</td>\n",
       "      <td>False</td>\n",
       "      <td>False</td>\n",
       "      <td>1.0</td>\n",
       "      <td>2.0</td>\n",
       "    </tr>\n",
       "    <tr>\n",
       "      <th>4</th>\n",
       "      <td>False</td>\n",
       "      <td>False</td>\n",
       "      <td>False</td>\n",
       "      <td>False</td>\n",
       "      <td>True</td>\n",
       "      <td>1.0</td>\n",
       "      <td>1.0</td>\n",
       "    </tr>\n",
       "    <tr>\n",
       "      <th>...</th>\n",
       "      <td>...</td>\n",
       "      <td>...</td>\n",
       "      <td>...</td>\n",
       "      <td>...</td>\n",
       "      <td>...</td>\n",
       "      <td>...</td>\n",
       "      <td>...</td>\n",
       "    </tr>\n",
       "    <tr>\n",
       "      <th>17971</th>\n",
       "      <td>True</td>\n",
       "      <td>False</td>\n",
       "      <td>False</td>\n",
       "      <td>False</td>\n",
       "      <td>True</td>\n",
       "      <td>2.0</td>\n",
       "      <td>0.0</td>\n",
       "    </tr>\n",
       "    <tr>\n",
       "      <th>17972</th>\n",
       "      <td>True</td>\n",
       "      <td>False</td>\n",
       "      <td>False</td>\n",
       "      <td>False</td>\n",
       "      <td>True</td>\n",
       "      <td>2.0</td>\n",
       "      <td>0.0</td>\n",
       "    </tr>\n",
       "    <tr>\n",
       "      <th>17973</th>\n",
       "      <td>True</td>\n",
       "      <td>False</td>\n",
       "      <td>False</td>\n",
       "      <td>False</td>\n",
       "      <td>False</td>\n",
       "      <td>2.0</td>\n",
       "      <td>0.0</td>\n",
       "    </tr>\n",
       "    <tr>\n",
       "      <th>17974</th>\n",
       "      <td>True</td>\n",
       "      <td>False</td>\n",
       "      <td>False</td>\n",
       "      <td>False</td>\n",
       "      <td>True</td>\n",
       "      <td>1.0</td>\n",
       "      <td>1.0</td>\n",
       "    </tr>\n",
       "    <tr>\n",
       "      <th>17975</th>\n",
       "      <td>True</td>\n",
       "      <td>False</td>\n",
       "      <td>False</td>\n",
       "      <td>False</td>\n",
       "      <td>False</td>\n",
       "      <td>0.0</td>\n",
       "      <td>1.0</td>\n",
       "    </tr>\n",
       "  </tbody>\n",
       "</table>\n",
       "<p>17976 rows × 7 columns</p>\n",
       "</div>"
      ],
      "text/plain": [
       "       reward_Cash Back  reward_Points  mailer_type_Postcard   \n",
       "0                 False          False                 False  \\\n",
       "1                 False          False                 False   \n",
       "2                 False          False                  True   \n",
       "3                 False          False                 False   \n",
       "4                 False          False                 False   \n",
       "...                 ...            ...                   ...   \n",
       "17971              True          False                 False   \n",
       "17972              True          False                 False   \n",
       "17973              True          False                 False   \n",
       "17974              True          False                 False   \n",
       "17975              True          False                 False   \n",
       "\n",
       "       overdraft_protection_Yes  own_your_home_Yes  income_level   \n",
       "0                         False              False           2.0  \\\n",
       "1                         False               True           1.0   \n",
       "2                         False               True           2.0   \n",
       "3                         False              False           1.0   \n",
       "4                         False               True           1.0   \n",
       "...                         ...                ...           ...   \n",
       "17971                     False               True           2.0   \n",
       "17972                     False               True           2.0   \n",
       "17973                     False              False           2.0   \n",
       "17974                     False               True           1.0   \n",
       "17975                     False              False           0.0   \n",
       "\n",
       "       credit_rating  \n",
       "0                2.0  \n",
       "1                1.0  \n",
       "2                1.0  \n",
       "3                2.0  \n",
       "4                1.0  \n",
       "...              ...  \n",
       "17971            0.0  \n",
       "17972            0.0  \n",
       "17973            0.0  \n",
       "17974            1.0  \n",
       "17975            1.0  \n",
       "\n",
       "[17976 rows x 7 columns]"
      ]
     },
     "execution_count": 32,
     "metadata": {},
     "output_type": "execute_result"
    }
   ],
   "source": [
    "categorical_data"
   ]
  },
  {
   "cell_type": "markdown",
   "id": "6d8bb513-3e74-4cac-a57a-f3b72d6bfef5",
   "metadata": {},
   "source": [
    "### Numerical data"
   ]
  },
  {
   "cell_type": "code",
   "execution_count": null,
   "id": "a2d6ca6a-c139-407d-9459-61c1a57256cf",
   "metadata": {},
   "outputs": [],
   "source": [
    "numerical_data = data.select_dtypes(np.number)"
   ]
  },
  {
   "cell_type": "code",
   "execution_count": null,
   "id": "57da0b06-7de7-4957-b32e-5e2a2d493ac1",
   "metadata": {},
   "outputs": [],
   "source": [
    "numerical_data.columns"
   ]
  },
  {
   "cell_type": "code",
   "execution_count": null,
   "id": "28127e9a-29b7-48c1-a44a-8cd26717d62b",
   "metadata": {},
   "outputs": [],
   "source": [
    "for column in numerical_data.drop(columns=['customer_number']).columns[4:]:\n",
    "    sns.histplot(numerical_data[column])\n",
    "    plt.show()"
   ]
  },
  {
   "cell_type": "markdown",
   "id": "920de647-289f-4aa4-8701-3e1bbadccdfb",
   "metadata": {},
   "source": [
    "## Checking data balance (classes)"
   ]
  },
  {
   "cell_type": "code",
   "execution_count": null,
   "id": "d7d5747a-7e65-48b7-a34b-640d92614b29",
   "metadata": {},
   "outputs": [],
   "source": [
    "accepted, not_accepted = data['offer_accepted'].value_counts()"
   ]
  },
  {
   "cell_type": "code",
   "execution_count": null,
   "id": "f189526b-e913-4090-9cf9-6dafed091f1e",
   "metadata": {},
   "outputs": [],
   "source": [
    "print('Percentage of those clients that accepted the offer: {: .2f}%'.format(accepted / (accepted + not_accepted) * 100))\n",
    "print(\"Percentage of those clients that didn't accept the offer: {: .2f}%\".format(not_accepted / (accepted + not_accepted) * 100))"
   ]
  },
  {
   "cell_type": "code",
   "execution_count": null,
   "id": "60ff35a2-58c2-4177-addb-01cbccd07d47",
   "metadata": {},
   "outputs": [],
   "source": [
    "sns.countplot(x = categorical_data['offer_accepted'], data = data)\n",
    "plt.show()"
   ]
  },
  {
   "cell_type": "markdown",
   "id": "4d1fa9d6-a371-4664-853d-ea16fe4c20c1",
   "metadata": {},
   "source": [
    "* We can notice that we have imbalanced into our target."
   ]
  },
  {
   "cell_type": "markdown",
   "id": "39911f2e-fdb6-40d2-828d-119b6d23e842",
   "metadata": {},
   "source": [
    "## Split into train and test dataset"
   ]
  },
  {
   "cell_type": "code",
   "execution_count": null,
   "id": "be23bb0a-dfe8-48c5-a379-105c8108b09b",
   "metadata": {},
   "outputs": [],
   "source": [
    "def transform_target(row):\n",
    "    if row == 'No':\n",
    "        return 0\n",
    "    else:\n",
    "        return 1"
   ]
  },
  {
   "cell_type": "code",
   "execution_count": null,
   "id": "888d6add-90b5-48f9-9ad9-a7b68b51f229",
   "metadata": {},
   "outputs": [],
   "source": [
    "data['offer_accepted'] = data['offer_accepted'].apply(lambda x: transform_target(x))"
   ]
  },
  {
   "cell_type": "code",
   "execution_count": null,
   "id": "65f9d146-5dfd-4e48-aa4d-9e8bb91376de",
   "metadata": {},
   "outputs": [],
   "source": [
    "data['offer_accepted'] = data['offer_accepted'].astype(np.int64)"
   ]
  },
  {
   "cell_type": "code",
   "execution_count": null,
   "id": "4d32f7ba-ee77-4d64-8213-7faeb64887fe",
   "metadata": {},
   "outputs": [],
   "source": [
    "y = data['offer_accepted']"
   ]
  },
  {
   "cell_type": "code",
   "execution_count": null,
   "id": "bccac070-a42b-4bbb-953a-acee9931e50b",
   "metadata": {},
   "outputs": [],
   "source": [
    "y.shape"
   ]
  },
  {
   "cell_type": "code",
   "execution_count": null,
   "id": "3036d5ee-1474-4715-a1d8-0bc71797c086",
   "metadata": {},
   "outputs": [],
   "source": [
    "X = data.drop(columns=['offer_accepted'])"
   ]
  },
  {
   "cell_type": "code",
   "execution_count": null,
   "id": "738e5c8e-128d-482c-818a-0cd084ad4778",
   "metadata": {},
   "outputs": [],
   "source": [
    "X.shape"
   ]
  },
  {
   "cell_type": "code",
   "execution_count": null,
   "id": "0f826779-57dc-49ab-80cd-15efa285289a",
   "metadata": {},
   "outputs": [],
   "source": [
    "X_train, X_test, y_train, y_test = train_test_split(X, y, test_size=0.2, random_state=42)"
   ]
  },
  {
   "cell_type": "code",
   "execution_count": null,
   "id": "cd840de5-5510-4425-8aac-c7bb7934bbda",
   "metadata": {},
   "outputs": [],
   "source": []
  }
 ],
 "metadata": {
  "kernelspec": {
   "display_name": "ironhack",
   "language": "python",
   "name": "ironhack"
  },
  "language_info": {
   "codemirror_mode": {
    "name": "ipython",
    "version": 3
   },
   "file_extension": ".py",
   "mimetype": "text/x-python",
   "name": "python",
   "nbconvert_exporter": "python",
   "pygments_lexer": "ipython3",
   "version": "3.9.2"
  }
 },
 "nbformat": 4,
 "nbformat_minor": 5
}
