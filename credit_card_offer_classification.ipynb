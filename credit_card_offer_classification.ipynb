{
 "cells": [
  {
   "cell_type": "markdown",
   "id": "4059d4e6-c55a-443b-8987-7313b4461681",
   "metadata": {},
   "source": [
    "# Credit card offer"
   ]
  },
  {
   "cell_type": "markdown",
   "id": "3fafc0d4-49b5-42cd-9000-e5f8ddeedd4a",
   "metadata": {
    "tags": []
   },
   "source": [
    "## Import required libraries"
   ]
  },
  {
   "cell_type": "code",
   "execution_count": 1,
   "id": "6c9ee65f-fcbb-4674-9f6a-28d4328bc32d",
   "metadata": {},
   "outputs": [],
   "source": [
    "import pandas as pd\n",
    "import numpy as np\n",
    "import seaborn as sns\n",
    "import matplotlib.pyplot as plt\n",
    "\n",
    "from sklearn.model_selection import train_test_split\n",
    "from sklearn.preprocessing import OrdinalEncoder, StandardScaler, MinMaxScaler\n",
    "from sklearn.linear_model import LogisticRegression\n",
    "from sklearn.metrics import confusion_matrix, ConfusionMatrixDisplay\n",
    "from sklearn.metrics import accuracy_score, precision_score, recall_score, f1_score, cohen_kappa_score\n",
    "\n",
    "from collections import Counter\n",
    "from imblearn.over_sampling import RandomOverSampler\n",
    "from imblearn.under_sampling import RandomUnderSampler\n",
    "from imblearn.over_sampling import SMOTE\n",
    "from imblearn.under_sampling import TomekLinks"
   ]
  },
  {
   "cell_type": "markdown",
   "id": "33f544d2-38ce-4601-a942-6a5c2e8eb130",
   "metadata": {
    "tags": []
   },
   "source": [
    "## Define a goal"
   ]
  },
  {
   "cell_type": "markdown",
   "id": "41c66330-92aa-466f-80e5-f0d6d8aeecb7",
   "metadata": {},
   "source": [
    "**GOAL: Know if a customer will accept a credit card offer or not.**"
   ]
  },
  {
   "cell_type": "markdown",
   "id": "3cb0ad2d-99ec-4b63-842f-5be7409321d3",
   "metadata": {
    "tags": []
   },
   "source": [
    "## Get data"
   ]
  },
  {
   "cell_type": "code",
   "execution_count": 2,
   "id": "c78483d7-46d3-478f-8d58-3634f3a26edd",
   "metadata": {},
   "outputs": [],
   "source": [
    "headers =  ['customer_number', 'offer_accepted', 'reward', 'mailer_type', 'income_level', 'bank_accounts_open', 'overdraft_protection', 'credit_rating', 'credit_cards_held', 'homes_owned', 'household_size', 'own_your_home', 'avg_balance', 'balance_q1',\n",
    "            'balance_q2', 'balance_q3', 'balance_q4']"
   ]
  },
  {
   "cell_type": "code",
   "execution_count": 3,
   "id": "44e2afe3-5a8b-4960-9568-7f1f93291030",
   "metadata": {},
   "outputs": [],
   "source": [
    "data = pd.read_csv('./creditcardmarketing.csv', header=None, names = headers)"
   ]
  },
  {
   "cell_type": "code",
   "execution_count": 4,
   "id": "2b9d9ade-c9e4-4128-82aa-4439fb87e0ce",
   "metadata": {},
   "outputs": [
    {
     "data": {
      "text/html": [
       "<div>\n",
       "<style scoped>\n",
       "    .dataframe tbody tr th:only-of-type {\n",
       "        vertical-align: middle;\n",
       "    }\n",
       "\n",
       "    .dataframe tbody tr th {\n",
       "        vertical-align: top;\n",
       "    }\n",
       "\n",
       "    .dataframe thead th {\n",
       "        text-align: right;\n",
       "    }\n",
       "</style>\n",
       "<table border=\"1\" class=\"dataframe\">\n",
       "  <thead>\n",
       "    <tr style=\"text-align: right;\">\n",
       "      <th></th>\n",
       "      <th>customer_number</th>\n",
       "      <th>offer_accepted</th>\n",
       "      <th>reward</th>\n",
       "      <th>mailer_type</th>\n",
       "      <th>income_level</th>\n",
       "      <th>bank_accounts_open</th>\n",
       "      <th>overdraft_protection</th>\n",
       "      <th>credit_rating</th>\n",
       "      <th>credit_cards_held</th>\n",
       "      <th>homes_owned</th>\n",
       "      <th>household_size</th>\n",
       "      <th>own_your_home</th>\n",
       "      <th>avg_balance</th>\n",
       "      <th>balance_q1</th>\n",
       "      <th>balance_q2</th>\n",
       "      <th>balance_q3</th>\n",
       "      <th>balance_q4</th>\n",
       "    </tr>\n",
       "  </thead>\n",
       "  <tbody>\n",
       "    <tr>\n",
       "      <th>0</th>\n",
       "      <td>1</td>\n",
       "      <td>No</td>\n",
       "      <td>Air Miles</td>\n",
       "      <td>Letter</td>\n",
       "      <td>High</td>\n",
       "      <td>1</td>\n",
       "      <td>No</td>\n",
       "      <td>High</td>\n",
       "      <td>2</td>\n",
       "      <td>1</td>\n",
       "      <td>4</td>\n",
       "      <td>No</td>\n",
       "      <td>1160.75</td>\n",
       "      <td>1669.0</td>\n",
       "      <td>877.0</td>\n",
       "      <td>1095.0</td>\n",
       "      <td>1002.0</td>\n",
       "    </tr>\n",
       "    <tr>\n",
       "      <th>1</th>\n",
       "      <td>2</td>\n",
       "      <td>No</td>\n",
       "      <td>Air Miles</td>\n",
       "      <td>Letter</td>\n",
       "      <td>Medium</td>\n",
       "      <td>1</td>\n",
       "      <td>No</td>\n",
       "      <td>Medium</td>\n",
       "      <td>2</td>\n",
       "      <td>2</td>\n",
       "      <td>5</td>\n",
       "      <td>Yes</td>\n",
       "      <td>147.25</td>\n",
       "      <td>39.0</td>\n",
       "      <td>106.0</td>\n",
       "      <td>78.0</td>\n",
       "      <td>366.0</td>\n",
       "    </tr>\n",
       "    <tr>\n",
       "      <th>2</th>\n",
       "      <td>3</td>\n",
       "      <td>No</td>\n",
       "      <td>Air Miles</td>\n",
       "      <td>Postcard</td>\n",
       "      <td>High</td>\n",
       "      <td>2</td>\n",
       "      <td>No</td>\n",
       "      <td>Medium</td>\n",
       "      <td>2</td>\n",
       "      <td>1</td>\n",
       "      <td>2</td>\n",
       "      <td>Yes</td>\n",
       "      <td>276.50</td>\n",
       "      <td>367.0</td>\n",
       "      <td>352.0</td>\n",
       "      <td>145.0</td>\n",
       "      <td>242.0</td>\n",
       "    </tr>\n",
       "    <tr>\n",
       "      <th>3</th>\n",
       "      <td>4</td>\n",
       "      <td>No</td>\n",
       "      <td>Air Miles</td>\n",
       "      <td>Letter</td>\n",
       "      <td>Medium</td>\n",
       "      <td>2</td>\n",
       "      <td>No</td>\n",
       "      <td>High</td>\n",
       "      <td>1</td>\n",
       "      <td>1</td>\n",
       "      <td>4</td>\n",
       "      <td>No</td>\n",
       "      <td>1219.00</td>\n",
       "      <td>1578.0</td>\n",
       "      <td>1760.0</td>\n",
       "      <td>1119.0</td>\n",
       "      <td>419.0</td>\n",
       "    </tr>\n",
       "    <tr>\n",
       "      <th>4</th>\n",
       "      <td>5</td>\n",
       "      <td>No</td>\n",
       "      <td>Air Miles</td>\n",
       "      <td>Letter</td>\n",
       "      <td>Medium</td>\n",
       "      <td>1</td>\n",
       "      <td>No</td>\n",
       "      <td>Medium</td>\n",
       "      <td>2</td>\n",
       "      <td>1</td>\n",
       "      <td>6</td>\n",
       "      <td>Yes</td>\n",
       "      <td>1211.00</td>\n",
       "      <td>2140.0</td>\n",
       "      <td>1357.0</td>\n",
       "      <td>982.0</td>\n",
       "      <td>365.0</td>\n",
       "    </tr>\n",
       "  </tbody>\n",
       "</table>\n",
       "</div>"
      ],
      "text/plain": [
       "   customer_number offer_accepted     reward mailer_type income_level   \n",
       "0                1             No  Air Miles      Letter         High  \\\n",
       "1                2             No  Air Miles      Letter       Medium   \n",
       "2                3             No  Air Miles    Postcard         High   \n",
       "3                4             No  Air Miles      Letter       Medium   \n",
       "4                5             No  Air Miles      Letter       Medium   \n",
       "\n",
       "   bank_accounts_open overdraft_protection credit_rating  credit_cards_held   \n",
       "0                   1                   No          High                  2  \\\n",
       "1                   1                   No        Medium                  2   \n",
       "2                   2                   No        Medium                  2   \n",
       "3                   2                   No          High                  1   \n",
       "4                   1                   No        Medium                  2   \n",
       "\n",
       "   homes_owned  household_size own_your_home  avg_balance  balance_q1   \n",
       "0            1               4            No      1160.75      1669.0  \\\n",
       "1            2               5           Yes       147.25        39.0   \n",
       "2            1               2           Yes       276.50       367.0   \n",
       "3            1               4            No      1219.00      1578.0   \n",
       "4            1               6           Yes      1211.00      2140.0   \n",
       "\n",
       "   balance_q2  balance_q3  balance_q4  \n",
       "0       877.0      1095.0      1002.0  \n",
       "1       106.0        78.0       366.0  \n",
       "2       352.0       145.0       242.0  \n",
       "3      1760.0      1119.0       419.0  \n",
       "4      1357.0       982.0       365.0  "
      ]
     },
     "execution_count": 4,
     "metadata": {},
     "output_type": "execute_result"
    }
   ],
   "source": [
    "data.head()"
   ]
  },
  {
   "cell_type": "code",
   "execution_count": 5,
   "id": "87709565-1518-4128-9e88-7af4b8a35743",
   "metadata": {},
   "outputs": [
    {
     "data": {
      "text/plain": [
       "(18000, 17)"
      ]
     },
     "execution_count": 5,
     "metadata": {},
     "output_type": "execute_result"
    }
   ],
   "source": [
    "data.shape"
   ]
  },
  {
   "cell_type": "markdown",
   "id": "792ef4b8-1d8d-490f-96e1-0869118956d9",
   "metadata": {
    "tags": []
   },
   "source": [
    "## Explore data"
   ]
  },
  {
   "cell_type": "code",
   "execution_count": 6,
   "id": "c6f48548-895b-4bf5-a3eb-fa7dac29da52",
   "metadata": {},
   "outputs": [
    {
     "name": "stdout",
     "output_type": "stream",
     "text": [
      "<class 'pandas.core.frame.DataFrame'>\n",
      "RangeIndex: 18000 entries, 0 to 17999\n",
      "Data columns (total 17 columns):\n",
      " #   Column                Non-Null Count  Dtype  \n",
      "---  ------                --------------  -----  \n",
      " 0   customer_number       18000 non-null  int64  \n",
      " 1   offer_accepted        18000 non-null  object \n",
      " 2   reward                18000 non-null  object \n",
      " 3   mailer_type           18000 non-null  object \n",
      " 4   income_level          18000 non-null  object \n",
      " 5   bank_accounts_open    18000 non-null  int64  \n",
      " 6   overdraft_protection  18000 non-null  object \n",
      " 7   credit_rating         18000 non-null  object \n",
      " 8   credit_cards_held     18000 non-null  int64  \n",
      " 9   homes_owned           18000 non-null  int64  \n",
      " 10  household_size        18000 non-null  int64  \n",
      " 11  own_your_home         18000 non-null  object \n",
      " 12  avg_balance           17976 non-null  float64\n",
      " 13  balance_q1            17976 non-null  float64\n",
      " 14  balance_q2            17976 non-null  float64\n",
      " 15  balance_q3            17976 non-null  float64\n",
      " 16  balance_q4            17976 non-null  float64\n",
      "dtypes: float64(5), int64(5), object(7)\n",
      "memory usage: 2.3+ MB\n"
     ]
    }
   ],
   "source": [
    "data.info()"
   ]
  },
  {
   "cell_type": "code",
   "execution_count": 7,
   "id": "433f9093-7a39-420e-a947-3d60be01209b",
   "metadata": {},
   "outputs": [
    {
     "data": {
      "text/plain": [
       "customer_number          0\n",
       "offer_accepted           0\n",
       "reward                   0\n",
       "mailer_type              0\n",
       "income_level             0\n",
       "bank_accounts_open       0\n",
       "overdraft_protection     0\n",
       "credit_rating            0\n",
       "credit_cards_held        0\n",
       "homes_owned              0\n",
       "household_size           0\n",
       "own_your_home            0\n",
       "avg_balance             24\n",
       "balance_q1              24\n",
       "balance_q2              24\n",
       "balance_q3              24\n",
       "balance_q4              24\n",
       "dtype: int64"
      ]
     },
     "execution_count": 7,
     "metadata": {},
     "output_type": "execute_result"
    }
   ],
   "source": [
    "data.isna().sum()"
   ]
  },
  {
   "cell_type": "code",
   "execution_count": 8,
   "id": "c766074e-7d31-4b76-8e12-092092f5bb8d",
   "metadata": {},
   "outputs": [
    {
     "data": {
      "text/plain": [
       "customer_number         0.000000\n",
       "offer_accepted          0.000000\n",
       "reward                  0.000000\n",
       "mailer_type             0.000000\n",
       "income_level            0.000000\n",
       "bank_accounts_open      0.000000\n",
       "overdraft_protection    0.000000\n",
       "credit_rating           0.000000\n",
       "credit_cards_held       0.000000\n",
       "homes_owned             0.000000\n",
       "household_size          0.000000\n",
       "own_your_home           0.000000\n",
       "avg_balance             0.001333\n",
       "balance_q1              0.001333\n",
       "balance_q2              0.001333\n",
       "balance_q3              0.001333\n",
       "balance_q4              0.001333\n",
       "dtype: float64"
      ]
     },
     "execution_count": 8,
     "metadata": {},
     "output_type": "execute_result"
    }
   ],
   "source": [
    "data.isna().sum() / data.shape[0]"
   ]
  },
  {
   "cell_type": "markdown",
   "id": "e013d24b-60b7-4102-bdd3-23f5f484ac6e",
   "metadata": {},
   "source": [
    "* We have null values so we need to know what we will do with them."
   ]
  },
  {
   "cell_type": "markdown",
   "id": "3d77b6f1-985a-4a4e-a79d-bd9c55c07a62",
   "metadata": {
    "tags": []
   },
   "source": [
    "## Deal with missing values"
   ]
  },
  {
   "cell_type": "code",
   "execution_count": 9,
   "id": "0596ea32-cd99-42ac-a1e8-a08285943d8d",
   "metadata": {},
   "outputs": [
    {
     "data": {
      "text/plain": [
       "avg_balance    24\n",
       "balance_q1     24\n",
       "balance_q2     24\n",
       "balance_q3     24\n",
       "balance_q4     24\n",
       "dtype: int64"
      ]
     },
     "execution_count": 9,
     "metadata": {},
     "output_type": "execute_result"
    }
   ],
   "source": [
    "data.isna().sum()[data.isna().sum() > 0]"
   ]
  },
  {
   "cell_type": "markdown",
   "id": "587dd5f3-700e-4302-be00-7f96233f564d",
   "metadata": {},
   "source": [
    "* I decided to remove those observations because my dataset has a 18,000 observations, I think that 24 are deprecable."
   ]
  },
  {
   "cell_type": "code",
   "execution_count": 10,
   "id": "901cc041-830a-4b5f-887c-5aaf91ee368a",
   "metadata": {},
   "outputs": [],
   "source": [
    "data = data.dropna()"
   ]
  },
  {
   "cell_type": "code",
   "execution_count": 11,
   "id": "55a88a77-220a-4f8e-b983-dd25c09a2b29",
   "metadata": {},
   "outputs": [
    {
     "data": {
      "text/plain": [
       "(17976, 17)"
      ]
     },
     "execution_count": 11,
     "metadata": {},
     "output_type": "execute_result"
    }
   ],
   "source": [
    "data.shape"
   ]
  },
  {
   "cell_type": "markdown",
   "id": "a1ee022d-a845-4496-a54f-3186eea5267d",
   "metadata": {
    "tags": []
   },
   "source": [
    "## Split data into categorical and numerical"
   ]
  },
  {
   "cell_type": "markdown",
   "id": "6d8bb513-3e74-4cac-a57a-f3b72d6bfef5",
   "metadata": {
    "tags": []
   },
   "source": [
    "### Numerical data"
   ]
  },
  {
   "cell_type": "code",
   "execution_count": 12,
   "id": "be23bb0a-dfe8-48c5-a379-105c8108b09b",
   "metadata": {},
   "outputs": [],
   "source": [
    "def transform_target(row):\n",
    "    if row == 'No':\n",
    "        return 0\n",
    "    else:\n",
    "        return 1"
   ]
  },
  {
   "cell_type": "code",
   "execution_count": 13,
   "id": "888d6add-90b5-48f9-9ad9-a7b68b51f229",
   "metadata": {},
   "outputs": [],
   "source": [
    "data['offer_accepted'] = data['offer_accepted'].apply(lambda x: transform_target(x))"
   ]
  },
  {
   "cell_type": "code",
   "execution_count": 14,
   "id": "65f9d146-5dfd-4e48-aa4d-9e8bb91376de",
   "metadata": {},
   "outputs": [],
   "source": [
    "data['offer_accepted'] = data['offer_accepted'].astype(np.int64)"
   ]
  },
  {
   "cell_type": "code",
   "execution_count": 15,
   "id": "a2d6ca6a-c139-407d-9459-61c1a57256cf",
   "metadata": {},
   "outputs": [],
   "source": [
    "numerical_data = data.select_dtypes(np.number)"
   ]
  },
  {
   "cell_type": "code",
   "execution_count": 16,
   "id": "57da0b06-7de7-4957-b32e-5e2a2d493ac1",
   "metadata": {},
   "outputs": [
    {
     "data": {
      "text/plain": [
       "Index(['customer_number', 'offer_accepted', 'bank_accounts_open',\n",
       "       'credit_cards_held', 'homes_owned', 'household_size', 'avg_balance',\n",
       "       'balance_q1', 'balance_q2', 'balance_q3', 'balance_q4'],\n",
       "      dtype='object')"
      ]
     },
     "execution_count": 16,
     "metadata": {},
     "output_type": "execute_result"
    }
   ],
   "source": [
    "numerical_data.columns"
   ]
  },
  {
   "cell_type": "code",
   "execution_count": 17,
   "id": "28127e9a-29b7-48c1-a44a-8cd26717d62b",
   "metadata": {},
   "outputs": [
    {
     "data": {
      "image/png": "[encoded data removed]",
      "text/plain": [
       "<Figure size 640x480 with 1 Axes>"
      ]
     },
     "metadata": {},
     "output_type": "display_data"
    },
    {
     "data": {
      "image/png": "[encoded data removed]",
      "text/plain": [
       "<Figure size 640x480 with 1 Axes>"
      ]
     },
     "metadata": {},
     "output_type": "display_data"
    },
    {
     "data": {
      "image/png": "[encoded data removed]",
      "text/plain": [
       "<Figure size 640x480 with 1 Axes>"
      ]
     },
     "metadata": {},
     "output_type": "display_data"
    },
    {
     "data": {
      "image/png": "[encoded data removed]",
      "text/plain": [
       "<Figure size 640x480 with 1 Axes>"
      ]
     },
     "metadata": {},
     "output_type": "display_data"
    },
    {
     "data": {
      "image/png": "[encoded data removed]",
      "text/plain": [
       "<Figure size 640x480 with 1 Axes>"
      ]
     },
     "metadata": {},
     "output_type": "display_data"
    },
    {
     "data": {
      "image/png": "[encoded data removed]",
      "text/plain": [
       "<Figure size 640x480 with 1 Axes>"
      ]
     },
     "metadata": {},
     "output_type": "display_data"
    },
    {
     "data": {
      "image/png": "[encoded data removed]",
      "text/plain": [
       "<Figure size 640x480 with 1 Axes>"
      ]
     },
     "metadata": {},
     "output_type": "display_data"
    },
    {
     "data": {
      "image/png": "[encoded data removed]",
      "text/plain": [
       "<Figure size 640x480 with 1 Axes>"
      ]
     },
     "metadata": {},
     "output_type": "display_data"
    },
    {
     "data": {
      "image/png": "[encoded data removed]",
      "text/plain": [
       "<Figure size 640x480 with 1 Axes>"
      ]
     },
     "metadata": {},
     "output_type": "display_data"
    },
    {
     "data": {
      "image/png": "[encoded data removed]",
      "text/plain": [
       "<Figure size 640x480 with 1 Axes>"
      ]
     },
     "metadata": {},
     "output_type": "display_data"
    }
   ],
   "source": [
    "for column in numerical_data.drop(columns=['customer_number']).columns[5:]:\n",
    "    sns.histplot(numerical_data[column])\n",
    "    plt.show()\n",
    "    sns.boxplot(numerical_data[column])\n",
    "    plt.xlabel(column)\n",
    "    plt.show()"
   ]
  },
  {
   "cell_type": "code",
   "execution_count": 18,
   "id": "8ece0b39-5c98-43f5-9021-50e278c70752",
   "metadata": {},
   "outputs": [],
   "source": [
    "numerical_data = numerical_data.reset_index(drop = True)"
   ]
  },
  {
   "cell_type": "code",
   "execution_count": 19,
   "id": "1087ef9d-f17f-4a92-8bed-4d17fab0a21f",
   "metadata": {},
   "outputs": [
    {
     "data": {
      "text/html": [
       "<div>\n",
       "<style scoped>\n",
       "    .dataframe tbody tr th:only-of-type {\n",
       "        vertical-align: middle;\n",
       "    }\n",
       "\n",
       "    .dataframe tbody tr th {\n",
       "        vertical-align: top;\n",
       "    }\n",
       "\n",
       "    .dataframe thead th {\n",
       "        text-align: right;\n",
       "    }\n",
       "</style>\n",
       "<table border=\"1\" class=\"dataframe\">\n",
       "  <thead>\n",
       "    <tr style=\"text-align: right;\">\n",
       "      <th></th>\n",
       "      <th>customer_number</th>\n",
       "      <th>offer_accepted</th>\n",
       "      <th>bank_accounts_open</th>\n",
       "      <th>credit_cards_held</th>\n",
       "      <th>homes_owned</th>\n",
       "      <th>household_size</th>\n",
       "      <th>avg_balance</th>\n",
       "      <th>balance_q1</th>\n",
       "      <th>balance_q2</th>\n",
       "      <th>balance_q3</th>\n",
       "      <th>balance_q4</th>\n",
       "    </tr>\n",
       "  </thead>\n",
       "  <tbody>\n",
       "    <tr>\n",
       "      <th>0</th>\n",
       "      <td>1</td>\n",
       "      <td>0</td>\n",
       "      <td>1</td>\n",
       "      <td>2</td>\n",
       "      <td>1</td>\n",
       "      <td>4</td>\n",
       "      <td>1160.75</td>\n",
       "      <td>1669.0</td>\n",
       "      <td>877.0</td>\n",
       "      <td>1095.0</td>\n",
       "      <td>1002.0</td>\n",
       "    </tr>\n",
       "    <tr>\n",
       "      <th>1</th>\n",
       "      <td>2</td>\n",
       "      <td>0</td>\n",
       "      <td>1</td>\n",
       "      <td>2</td>\n",
       "      <td>2</td>\n",
       "      <td>5</td>\n",
       "      <td>147.25</td>\n",
       "      <td>39.0</td>\n",
       "      <td>106.0</td>\n",
       "      <td>78.0</td>\n",
       "      <td>366.0</td>\n",
       "    </tr>\n",
       "    <tr>\n",
       "      <th>2</th>\n",
       "      <td>3</td>\n",
       "      <td>0</td>\n",
       "      <td>2</td>\n",
       "      <td>2</td>\n",
       "      <td>1</td>\n",
       "      <td>2</td>\n",
       "      <td>276.50</td>\n",
       "      <td>367.0</td>\n",
       "      <td>352.0</td>\n",
       "      <td>145.0</td>\n",
       "      <td>242.0</td>\n",
       "    </tr>\n",
       "    <tr>\n",
       "      <th>3</th>\n",
       "      <td>4</td>\n",
       "      <td>0</td>\n",
       "      <td>2</td>\n",
       "      <td>1</td>\n",
       "      <td>1</td>\n",
       "      <td>4</td>\n",
       "      <td>1219.00</td>\n",
       "      <td>1578.0</td>\n",
       "      <td>1760.0</td>\n",
       "      <td>1119.0</td>\n",
       "      <td>419.0</td>\n",
       "    </tr>\n",
       "    <tr>\n",
       "      <th>4</th>\n",
       "      <td>5</td>\n",
       "      <td>0</td>\n",
       "      <td>1</td>\n",
       "      <td>2</td>\n",
       "      <td>1</td>\n",
       "      <td>6</td>\n",
       "      <td>1211.00</td>\n",
       "      <td>2140.0</td>\n",
       "      <td>1357.0</td>\n",
       "      <td>982.0</td>\n",
       "      <td>365.0</td>\n",
       "    </tr>\n",
       "    <tr>\n",
       "      <th>...</th>\n",
       "      <td>...</td>\n",
       "      <td>...</td>\n",
       "      <td>...</td>\n",
       "      <td>...</td>\n",
       "      <td>...</td>\n",
       "      <td>...</td>\n",
       "      <td>...</td>\n",
       "      <td>...</td>\n",
       "      <td>...</td>\n",
       "      <td>...</td>\n",
       "      <td>...</td>\n",
       "    </tr>\n",
       "    <tr>\n",
       "      <th>17971</th>\n",
       "      <td>17996</td>\n",
       "      <td>0</td>\n",
       "      <td>1</td>\n",
       "      <td>1</td>\n",
       "      <td>1</td>\n",
       "      <td>5</td>\n",
       "      <td>167.50</td>\n",
       "      <td>136.0</td>\n",
       "      <td>65.0</td>\n",
       "      <td>71.0</td>\n",
       "      <td>398.0</td>\n",
       "    </tr>\n",
       "    <tr>\n",
       "      <th>17972</th>\n",
       "      <td>17997</td>\n",
       "      <td>0</td>\n",
       "      <td>1</td>\n",
       "      <td>3</td>\n",
       "      <td>1</td>\n",
       "      <td>3</td>\n",
       "      <td>850.50</td>\n",
       "      <td>984.0</td>\n",
       "      <td>940.0</td>\n",
       "      <td>943.0</td>\n",
       "      <td>535.0</td>\n",
       "    </tr>\n",
       "    <tr>\n",
       "      <th>17973</th>\n",
       "      <td>17998</td>\n",
       "      <td>0</td>\n",
       "      <td>1</td>\n",
       "      <td>2</td>\n",
       "      <td>1</td>\n",
       "      <td>4</td>\n",
       "      <td>1087.25</td>\n",
       "      <td>918.0</td>\n",
       "      <td>767.0</td>\n",
       "      <td>1170.0</td>\n",
       "      <td>1494.0</td>\n",
       "    </tr>\n",
       "    <tr>\n",
       "      <th>17974</th>\n",
       "      <td>17999</td>\n",
       "      <td>0</td>\n",
       "      <td>1</td>\n",
       "      <td>4</td>\n",
       "      <td>2</td>\n",
       "      <td>2</td>\n",
       "      <td>1022.25</td>\n",
       "      <td>626.0</td>\n",
       "      <td>983.0</td>\n",
       "      <td>865.0</td>\n",
       "      <td>1615.0</td>\n",
       "    </tr>\n",
       "    <tr>\n",
       "      <th>17975</th>\n",
       "      <td>18000</td>\n",
       "      <td>0</td>\n",
       "      <td>2</td>\n",
       "      <td>2</td>\n",
       "      <td>1</td>\n",
       "      <td>3</td>\n",
       "      <td>1056.00</td>\n",
       "      <td>265.0</td>\n",
       "      <td>1378.0</td>\n",
       "      <td>1978.0</td>\n",
       "      <td>603.0</td>\n",
       "    </tr>\n",
       "  </tbody>\n",
       "</table>\n",
       "<p>17976 rows × 11 columns</p>\n",
       "</div>"
      ],
      "text/plain": [
       "       customer_number  offer_accepted  bank_accounts_open  credit_cards_held   \n",
       "0                    1               0                   1                  2  \\\n",
       "1                    2               0                   1                  2   \n",
       "2                    3               0                   2                  2   \n",
       "3                    4               0                   2                  1   \n",
       "4                    5               0                   1                  2   \n",
       "...                ...             ...                 ...                ...   \n",
       "17971            17996               0                   1                  1   \n",
       "17972            17997               0                   1                  3   \n",
       "17973            17998               0                   1                  2   \n",
       "17974            17999               0                   1                  4   \n",
       "17975            18000               0                   2                  2   \n",
       "\n",
       "       homes_owned  household_size  avg_balance  balance_q1  balance_q2   \n",
       "0                1               4      1160.75      1669.0       877.0  \\\n",
       "1                2               5       147.25        39.0       106.0   \n",
       "2                1               2       276.50       367.0       352.0   \n",
       "3                1               4      1219.00      1578.0      1760.0   \n",
       "4                1               6      1211.00      2140.0      1357.0   \n",
       "...            ...             ...          ...         ...         ...   \n",
       "17971            1               5       167.50       136.0        65.0   \n",
       "17972            1               3       850.50       984.0       940.0   \n",
       "17973            1               4      1087.25       918.0       767.0   \n",
       "17974            2               2      1022.25       626.0       983.0   \n",
       "17975            1               3      1056.00       265.0      1378.0   \n",
       "\n",
       "       balance_q3  balance_q4  \n",
       "0          1095.0      1002.0  \n",
       "1            78.0       366.0  \n",
       "2           145.0       242.0  \n",
       "3          1119.0       419.0  \n",
       "4           982.0       365.0  \n",
       "...           ...         ...  \n",
       "17971        71.0       398.0  \n",
       "17972       943.0       535.0  \n",
       "17973      1170.0      1494.0  \n",
       "17974       865.0      1615.0  \n",
       "17975      1978.0       603.0  \n",
       "\n",
       "[17976 rows x 11 columns]"
      ]
     },
     "execution_count": 19,
     "metadata": {},
     "output_type": "execute_result"
    }
   ],
   "source": [
    "numerical_data"
   ]
  },
  {
   "cell_type": "code",
   "execution_count": 20,
   "id": "e4218224-6c38-4e50-bcce-a7bae321bda7",
   "metadata": {},
   "outputs": [],
   "source": [
    "numerical_corr = numerical_data.drop(columns=['customer_number', 'offer_accepted']).corr()"
   ]
  },
  {
   "cell_type": "code",
   "execution_count": 21,
   "id": "e3488d34-ec0f-411e-99a5-d5416197c446",
   "metadata": {},
   "outputs": [
    {
     "data": {
      "text/html": [
       "<div>\n",
       "<style scoped>\n",
       "    .dataframe tbody tr th:only-of-type {\n",
       "        vertical-align: middle;\n",
       "    }\n",
       "\n",
       "    .dataframe tbody tr th {\n",
       "        vertical-align: top;\n",
       "    }\n",
       "\n",
       "    .dataframe thead th {\n",
       "        text-align: right;\n",
       "    }\n",
       "</style>\n",
       "<table border=\"1\" class=\"dataframe\">\n",
       "  <thead>\n",
       "    <tr style=\"text-align: right;\">\n",
       "      <th></th>\n",
       "      <th>bank_accounts_open</th>\n",
       "      <th>credit_cards_held</th>\n",
       "      <th>homes_owned</th>\n",
       "      <th>household_size</th>\n",
       "      <th>avg_balance</th>\n",
       "      <th>balance_q1</th>\n",
       "      <th>balance_q2</th>\n",
       "      <th>balance_q3</th>\n",
       "      <th>balance_q4</th>\n",
       "    </tr>\n",
       "  </thead>\n",
       "  <tbody>\n",
       "    <tr>\n",
       "      <th>bank_accounts_open</th>\n",
       "      <td>1.000000</td>\n",
       "      <td>-0.001633</td>\n",
       "      <td>0.004762</td>\n",
       "      <td>0.008622</td>\n",
       "      <td>-0.003909</td>\n",
       "      <td>-0.002814</td>\n",
       "      <td>-0.007956</td>\n",
       "      <td>0.000190</td>\n",
       "      <td>-0.000356</td>\n",
       "    </tr>\n",
       "    <tr>\n",
       "      <th>credit_cards_held</th>\n",
       "      <td>-0.001633</td>\n",
       "      <td>1.000000</td>\n",
       "      <td>-0.002390</td>\n",
       "      <td>-0.003040</td>\n",
       "      <td>-0.003469</td>\n",
       "      <td>-0.009446</td>\n",
       "      <td>-0.007373</td>\n",
       "      <td>-0.007623</td>\n",
       "      <td>0.015362</td>\n",
       "    </tr>\n",
       "    <tr>\n",
       "      <th>homes_owned</th>\n",
       "      <td>0.004762</td>\n",
       "      <td>-0.002390</td>\n",
       "      <td>1.000000</td>\n",
       "      <td>0.005227</td>\n",
       "      <td>0.017967</td>\n",
       "      <td>0.013143</td>\n",
       "      <td>0.009758</td>\n",
       "      <td>0.007775</td>\n",
       "      <td>0.014775</td>\n",
       "    </tr>\n",
       "    <tr>\n",
       "      <th>household_size</th>\n",
       "      <td>0.008622</td>\n",
       "      <td>-0.003040</td>\n",
       "      <td>0.005227</td>\n",
       "      <td>1.000000</td>\n",
       "      <td>-0.003582</td>\n",
       "      <td>-0.005080</td>\n",
       "      <td>-0.008766</td>\n",
       "      <td>0.003633</td>\n",
       "      <td>0.000232</td>\n",
       "    </tr>\n",
       "    <tr>\n",
       "      <th>avg_balance</th>\n",
       "      <td>-0.003909</td>\n",
       "      <td>-0.003469</td>\n",
       "      <td>0.017967</td>\n",
       "      <td>-0.003582</td>\n",
       "      <td>1.000000</td>\n",
       "      <td>0.481507</td>\n",
       "      <td>0.800285</td>\n",
       "      <td>0.752741</td>\n",
       "      <td>0.572380</td>\n",
       "    </tr>\n",
       "    <tr>\n",
       "      <th>balance_q1</th>\n",
       "      <td>-0.002814</td>\n",
       "      <td>-0.009446</td>\n",
       "      <td>0.013143</td>\n",
       "      <td>-0.005080</td>\n",
       "      <td>0.481507</td>\n",
       "      <td>1.000000</td>\n",
       "      <td>0.483134</td>\n",
       "      <td>-0.060961</td>\n",
       "      <td>-0.237283</td>\n",
       "    </tr>\n",
       "    <tr>\n",
       "      <th>balance_q2</th>\n",
       "      <td>-0.007956</td>\n",
       "      <td>-0.007373</td>\n",
       "      <td>0.009758</td>\n",
       "      <td>-0.008766</td>\n",
       "      <td>0.800285</td>\n",
       "      <td>0.483134</td>\n",
       "      <td>1.000000</td>\n",
       "      <td>0.487710</td>\n",
       "      <td>0.168955</td>\n",
       "    </tr>\n",
       "    <tr>\n",
       "      <th>balance_q3</th>\n",
       "      <td>0.000190</td>\n",
       "      <td>-0.007623</td>\n",
       "      <td>0.007775</td>\n",
       "      <td>0.003633</td>\n",
       "      <td>0.752741</td>\n",
       "      <td>-0.060961</td>\n",
       "      <td>0.487710</td>\n",
       "      <td>1.000000</td>\n",
       "      <td>0.565298</td>\n",
       "    </tr>\n",
       "    <tr>\n",
       "      <th>balance_q4</th>\n",
       "      <td>-0.000356</td>\n",
       "      <td>0.015362</td>\n",
       "      <td>0.014775</td>\n",
       "      <td>0.000232</td>\n",
       "      <td>0.572380</td>\n",
       "      <td>-0.237283</td>\n",
       "      <td>0.168955</td>\n",
       "      <td>0.565298</td>\n",
       "      <td>1.000000</td>\n",
       "    </tr>\n",
       "  </tbody>\n",
       "</table>\n",
       "</div>"
      ],
      "text/plain": [
       "                    bank_accounts_open  credit_cards_held  homes_owned   \n",
       "bank_accounts_open            1.000000          -0.001633     0.004762  \\\n",
       "credit_cards_held            -0.001633           1.000000    -0.002390   \n",
       "homes_owned                   0.004762          -0.002390     1.000000   \n",
       "household_size                0.008622          -0.003040     0.005227   \n",
       "avg_balance                  -0.003909          -0.003469     0.017967   \n",
       "balance_q1                   -0.002814          -0.009446     0.013143   \n",
       "balance_q2                   -0.007956          -0.007373     0.009758   \n",
       "balance_q3                    0.000190          -0.007623     0.007775   \n",
       "balance_q4                   -0.000356           0.015362     0.014775   \n",
       "\n",
       "                    household_size  avg_balance  balance_q1  balance_q2   \n",
       "bank_accounts_open        0.008622    -0.003909   -0.002814   -0.007956  \\\n",
       "credit_cards_held        -0.003040    -0.003469   -0.009446   -0.007373   \n",
       "homes_owned               0.005227     0.017967    0.013143    0.009758   \n",
       "household_size            1.000000    -0.003582   -0.005080   -0.008766   \n",
       "avg_balance              -0.003582     1.000000    0.481507    0.800285   \n",
       "balance_q1               -0.005080     0.481507    1.000000    0.483134   \n",
       "balance_q2               -0.008766     0.800285    0.483134    1.000000   \n",
       "balance_q3                0.003633     0.752741   -0.060961    0.487710   \n",
       "balance_q4                0.000232     0.572380   -0.237283    0.168955   \n",
       "\n",
       "                    balance_q3  balance_q4  \n",
       "bank_accounts_open    0.000190   -0.000356  \n",
       "credit_cards_held    -0.007623    0.015362  \n",
       "homes_owned           0.007775    0.014775  \n",
       "household_size        0.003633    0.000232  \n",
       "avg_balance           0.752741    0.572380  \n",
       "balance_q1           -0.060961   -0.237283  \n",
       "balance_q2            0.487710    0.168955  \n",
       "balance_q3            1.000000    0.565298  \n",
       "balance_q4            0.565298    1.000000  "
      ]
     },
     "execution_count": 21,
     "metadata": {},
     "output_type": "execute_result"
    }
   ],
   "source": [
    "numerical_corr"
   ]
  },
  {
   "cell_type": "code",
   "execution_count": 22,
   "id": "59baf233-ff60-4aa6-88b9-d9d8b0030814",
   "metadata": {},
   "outputs": [
    {
     "data": {
      "image/png": "[encoded data removed]",
      "text/plain": [
       "<Figure size 1000x600 with 2 Axes>"
      ]
     },
     "metadata": {},
     "output_type": "display_data"
    }
   ],
   "source": [
    "mask = np.triu(numerical_corr)\n",
    "\n",
    "plt.figure(figsize=(10, 6))\n",
    "sns.heatmap(numerical_corr, cmap=\"YlGnBu\", annot=True, mask=mask)\n",
    "plt.show()"
   ]
  },
  {
   "cell_type": "code",
   "execution_count": 23,
   "id": "f3112aae-0e86-48a9-8516-0ecdcf245952",
   "metadata": {},
   "outputs": [],
   "source": [
    "numerical_data = numerical_data.drop(columns=['avg_balance', 'customer_number'])"
   ]
  },
  {
   "cell_type": "code",
   "execution_count": 24,
   "id": "728786e3-095b-4b6f-b220-ae9dfcde5c8e",
   "metadata": {},
   "outputs": [
    {
     "data": {
      "text/html": [
       "<div>\n",
       "<style scoped>\n",
       "    .dataframe tbody tr th:only-of-type {\n",
       "        vertical-align: middle;\n",
       "    }\n",
       "\n",
       "    .dataframe tbody tr th {\n",
       "        vertical-align: top;\n",
       "    }\n",
       "\n",
       "    .dataframe thead th {\n",
       "        text-align: right;\n",
       "    }\n",
       "</style>\n",
       "<table border=\"1\" class=\"dataframe\">\n",
       "  <thead>\n",
       "    <tr style=\"text-align: right;\">\n",
       "      <th></th>\n",
       "      <th>offer_accepted</th>\n",
       "      <th>bank_accounts_open</th>\n",
       "      <th>credit_cards_held</th>\n",
       "      <th>homes_owned</th>\n",
       "      <th>household_size</th>\n",
       "      <th>balance_q1</th>\n",
       "      <th>balance_q2</th>\n",
       "      <th>balance_q3</th>\n",
       "      <th>balance_q4</th>\n",
       "    </tr>\n",
       "  </thead>\n",
       "  <tbody>\n",
       "    <tr>\n",
       "      <th>0</th>\n",
       "      <td>0</td>\n",
       "      <td>1</td>\n",
       "      <td>2</td>\n",
       "      <td>1</td>\n",
       "      <td>4</td>\n",
       "      <td>1669.0</td>\n",
       "      <td>877.0</td>\n",
       "      <td>1095.0</td>\n",
       "      <td>1002.0</td>\n",
       "    </tr>\n",
       "    <tr>\n",
       "      <th>1</th>\n",
       "      <td>0</td>\n",
       "      <td>1</td>\n",
       "      <td>2</td>\n",
       "      <td>2</td>\n",
       "      <td>5</td>\n",
       "      <td>39.0</td>\n",
       "      <td>106.0</td>\n",
       "      <td>78.0</td>\n",
       "      <td>366.0</td>\n",
       "    </tr>\n",
       "    <tr>\n",
       "      <th>2</th>\n",
       "      <td>0</td>\n",
       "      <td>2</td>\n",
       "      <td>2</td>\n",
       "      <td>1</td>\n",
       "      <td>2</td>\n",
       "      <td>367.0</td>\n",
       "      <td>352.0</td>\n",
       "      <td>145.0</td>\n",
       "      <td>242.0</td>\n",
       "    </tr>\n",
       "    <tr>\n",
       "      <th>3</th>\n",
       "      <td>0</td>\n",
       "      <td>2</td>\n",
       "      <td>1</td>\n",
       "      <td>1</td>\n",
       "      <td>4</td>\n",
       "      <td>1578.0</td>\n",
       "      <td>1760.0</td>\n",
       "      <td>1119.0</td>\n",
       "      <td>419.0</td>\n",
       "    </tr>\n",
       "    <tr>\n",
       "      <th>4</th>\n",
       "      <td>0</td>\n",
       "      <td>1</td>\n",
       "      <td>2</td>\n",
       "      <td>1</td>\n",
       "      <td>6</td>\n",
       "      <td>2140.0</td>\n",
       "      <td>1357.0</td>\n",
       "      <td>982.0</td>\n",
       "      <td>365.0</td>\n",
       "    </tr>\n",
       "    <tr>\n",
       "      <th>...</th>\n",
       "      <td>...</td>\n",
       "      <td>...</td>\n",
       "      <td>...</td>\n",
       "      <td>...</td>\n",
       "      <td>...</td>\n",
       "      <td>...</td>\n",
       "      <td>...</td>\n",
       "      <td>...</td>\n",
       "      <td>...</td>\n",
       "    </tr>\n",
       "    <tr>\n",
       "      <th>17971</th>\n",
       "      <td>0</td>\n",
       "      <td>1</td>\n",
       "      <td>1</td>\n",
       "      <td>1</td>\n",
       "      <td>5</td>\n",
       "      <td>136.0</td>\n",
       "      <td>65.0</td>\n",
       "      <td>71.0</td>\n",
       "      <td>398.0</td>\n",
       "    </tr>\n",
       "    <tr>\n",
       "      <th>17972</th>\n",
       "      <td>0</td>\n",
       "      <td>1</td>\n",
       "      <td>3</td>\n",
       "      <td>1</td>\n",
       "      <td>3</td>\n",
       "      <td>984.0</td>\n",
       "      <td>940.0</td>\n",
       "      <td>943.0</td>\n",
       "      <td>535.0</td>\n",
       "    </tr>\n",
       "    <tr>\n",
       "      <th>17973</th>\n",
       "      <td>0</td>\n",
       "      <td>1</td>\n",
       "      <td>2</td>\n",
       "      <td>1</td>\n",
       "      <td>4</td>\n",
       "      <td>918.0</td>\n",
       "      <td>767.0</td>\n",
       "      <td>1170.0</td>\n",
       "      <td>1494.0</td>\n",
       "    </tr>\n",
       "    <tr>\n",
       "      <th>17974</th>\n",
       "      <td>0</td>\n",
       "      <td>1</td>\n",
       "      <td>4</td>\n",
       "      <td>2</td>\n",
       "      <td>2</td>\n",
       "      <td>626.0</td>\n",
       "      <td>983.0</td>\n",
       "      <td>865.0</td>\n",
       "      <td>1615.0</td>\n",
       "    </tr>\n",
       "    <tr>\n",
       "      <th>17975</th>\n",
       "      <td>0</td>\n",
       "      <td>2</td>\n",
       "      <td>2</td>\n",
       "      <td>1</td>\n",
       "      <td>3</td>\n",
       "      <td>265.0</td>\n",
       "      <td>1378.0</td>\n",
       "      <td>1978.0</td>\n",
       "      <td>603.0</td>\n",
       "    </tr>\n",
       "  </tbody>\n",
       "</table>\n",
       "<p>17976 rows × 9 columns</p>\n",
       "</div>"
      ],
      "text/plain": [
       "       offer_accepted  bank_accounts_open  credit_cards_held  homes_owned   \n",
       "0                   0                   1                  2            1  \\\n",
       "1                   0                   1                  2            2   \n",
       "2                   0                   2                  2            1   \n",
       "3                   0                   2                  1            1   \n",
       "4                   0                   1                  2            1   \n",
       "...               ...                 ...                ...          ...   \n",
       "17971               0                   1                  1            1   \n",
       "17972               0                   1                  3            1   \n",
       "17973               0                   1                  2            1   \n",
       "17974               0                   1                  4            2   \n",
       "17975               0                   2                  2            1   \n",
       "\n",
       "       household_size  balance_q1  balance_q2  balance_q3  balance_q4  \n",
       "0                   4      1669.0       877.0      1095.0      1002.0  \n",
       "1                   5        39.0       106.0        78.0       366.0  \n",
       "2                   2       367.0       352.0       145.0       242.0  \n",
       "3                   4      1578.0      1760.0      1119.0       419.0  \n",
       "4                   6      2140.0      1357.0       982.0       365.0  \n",
       "...               ...         ...         ...         ...         ...  \n",
       "17971               5       136.0        65.0        71.0       398.0  \n",
       "17972               3       984.0       940.0       943.0       535.0  \n",
       "17973               4       918.0       767.0      1170.0      1494.0  \n",
       "17974               2       626.0       983.0       865.0      1615.0  \n",
       "17975               3       265.0      1378.0      1978.0       603.0  \n",
       "\n",
       "[17976 rows x 9 columns]"
      ]
     },
     "execution_count": 24,
     "metadata": {},
     "output_type": "execute_result"
    }
   ],
   "source": [
    "numerical_data"
   ]
  },
  {
   "cell_type": "code",
   "execution_count": 25,
   "id": "3f55e802-b2a9-44ac-8138-6a43d4c66fb6",
   "metadata": {},
   "outputs": [
    {
     "data": {
      "image/png": "[encoded data removed]",
      "text/plain": [
       "<Figure size 1000x600 with 2 Axes>"
      ]
     },
     "metadata": {},
     "output_type": "display_data"
    }
   ],
   "source": [
    "mask = np.triu( numerical_data.drop(columns=['offer_accepted']).corr())\n",
    "\n",
    "plt.figure(figsize=(10, 6))\n",
    "sns.heatmap(numerical_data.drop(columns=['offer_accepted']).corr(), cmap=\"mako\", annot=True, mask=mask)\n",
    "plt.show()"
   ]
  },
  {
   "cell_type": "markdown",
   "id": "cf6f8b05-3790-468a-83d8-0cc457dccc6b",
   "metadata": {
    "tags": []
   },
   "source": [
    "### Categorical data"
   ]
  },
  {
   "cell_type": "code",
   "execution_count": 26,
   "id": "f011bebd-a241-49ea-bc94-c5028e6b6352",
   "metadata": {},
   "outputs": [],
   "source": [
    "categorical_data = data.select_dtypes(object)"
   ]
  },
  {
   "cell_type": "code",
   "execution_count": 27,
   "id": "984ea8ad-a592-47fc-807e-1df079a6a6d6",
   "metadata": {},
   "outputs": [
    {
     "data": {
      "text/plain": [
       "Index(['reward', 'mailer_type', 'income_level', 'overdraft_protection',\n",
       "       'credit_rating', 'own_your_home'],\n",
       "      dtype='object')"
      ]
     },
     "execution_count": 27,
     "metadata": {},
     "output_type": "execute_result"
    }
   ],
   "source": [
    "categorical_data.columns"
   ]
  },
  {
   "cell_type": "code",
   "execution_count": 28,
   "id": "b1b8675f-6a63-4d78-9f11-e0af8b024ebe",
   "metadata": {},
   "outputs": [
    {
     "data": {
      "image/png": "[encoded data removed]",
      "text/plain": [
       "<Figure size 640x480 with 1 Axes>"
      ]
     },
     "metadata": {},
     "output_type": "display_data"
    },
    {
     "data": {
      "image/png": "[encoded data removed]",
      "text/plain": [
       "<Figure size 640x480 with 1 Axes>"
      ]
     },
     "metadata": {},
     "output_type": "display_data"
    },
    {
     "data": {
      "image/png": "[encoded data removed]",
      "text/plain": [
       "<Figure size 640x480 with 1 Axes>"
      ]
     },
     "metadata": {},
     "output_type": "display_data"
    },
    {
     "data": {
      "image/png": "[encoded data removed]",
      "text/plain": [
       "<Figure size 640x480 with 1 Axes>"
      ]
     },
     "metadata": {},
     "output_type": "display_data"
    },
    {
     "data": {
      "image/png": "[encoded data removed]",
      "text/plain": [
       "<Figure size 640x480 with 1 Axes>"
      ]
     },
     "metadata": {},
     "output_type": "display_data"
    },
    {
     "data": {
      "image/png": "[encoded data removed]",
      "text/plain": [
       "<Figure size 640x480 with 1 Axes>"
      ]
     },
     "metadata": {},
     "output_type": "display_data"
    }
   ],
   "source": [
    "for column in categorical_data.columns:\n",
    "    sns.barplot(data = data, x = categorical_data[column].unique(), y = categorical_data[column].value_counts(dropna=False))\n",
    "    plt.xlabel(column)\n",
    "    plt.show()"
   ]
  },
  {
   "cell_type": "code",
   "execution_count": 29,
   "id": "1e52bee4-a7ac-4c1a-8051-d6e1bfa9a0a2",
   "metadata": {},
   "outputs": [],
   "source": [
    "# Encoding data\n",
    "categories = [['Low', 'Medium', 'High']]\n",
    "\n",
    "ordinal_encoder = OrdinalEncoder(categories=categories)"
   ]
  },
  {
   "cell_type": "code",
   "execution_count": 30,
   "id": "16711d72-261b-44c0-b031-ca1ea44ba1ca",
   "metadata": {},
   "outputs": [],
   "source": [
    "income_oe_data = ordinal_encoder.fit_transform(categorical_data[['income_level']])"
   ]
  },
  {
   "cell_type": "code",
   "execution_count": 31,
   "id": "2fef9b31-3295-4b43-8c4a-d4471d2a99d0",
   "metadata": {},
   "outputs": [],
   "source": [
    "rating_oe_data = ordinal_encoder.fit_transform(categorical_data[['credit_rating']])"
   ]
  },
  {
   "cell_type": "code",
   "execution_count": 32,
   "id": "03449b7e-b695-4661-a935-25fa8b0fa5c5",
   "metadata": {},
   "outputs": [],
   "source": [
    "categorical_data = categorical_data.drop(columns=['income_level', 'credit_rating'])"
   ]
  },
  {
   "cell_type": "code",
   "execution_count": 33,
   "id": "b7017d1f-2a8b-4b5c-8364-c59604f0f57e",
   "metadata": {},
   "outputs": [
    {
     "data": {
      "text/plain": [
       "Index(['reward', 'mailer_type', 'overdraft_protection', 'own_your_home'], dtype='object')"
      ]
     },
     "execution_count": 33,
     "metadata": {},
     "output_type": "execute_result"
    }
   ],
   "source": [
    "categorical_data.columns"
   ]
  },
  {
   "cell_type": "code",
   "execution_count": 34,
   "id": "98eedb40-1b6b-4b6a-8251-0b7e57144a99",
   "metadata": {},
   "outputs": [],
   "source": [
    "categorical_data = pd.get_dummies(categorical_data, drop_first=True)"
   ]
  },
  {
   "cell_type": "code",
   "execution_count": 35,
   "id": "33e4ad26-014e-4278-8aea-df6195d9bcd4",
   "metadata": {},
   "outputs": [],
   "source": [
    "categorical_data = categorical_data.reset_index(drop=True)"
   ]
  },
  {
   "cell_type": "code",
   "execution_count": 36,
   "id": "fc8d4cbc-8063-4143-a83f-bb2a3532443b",
   "metadata": {},
   "outputs": [
    {
     "data": {
      "text/html": [
       "<div>\n",
       "<style scoped>\n",
       "    .dataframe tbody tr th:only-of-type {\n",
       "        vertical-align: middle;\n",
       "    }\n",
       "\n",
       "    .dataframe tbody tr th {\n",
       "        vertical-align: top;\n",
       "    }\n",
       "\n",
       "    .dataframe thead th {\n",
       "        text-align: right;\n",
       "    }\n",
       "</style>\n",
       "<table border=\"1\" class=\"dataframe\">\n",
       "  <thead>\n",
       "    <tr style=\"text-align: right;\">\n",
       "      <th></th>\n",
       "      <th>reward_Cash Back</th>\n",
       "      <th>reward_Points</th>\n",
       "      <th>mailer_type_Postcard</th>\n",
       "      <th>overdraft_protection_Yes</th>\n",
       "      <th>own_your_home_Yes</th>\n",
       "    </tr>\n",
       "  </thead>\n",
       "  <tbody>\n",
       "    <tr>\n",
       "      <th>0</th>\n",
       "      <td>False</td>\n",
       "      <td>False</td>\n",
       "      <td>False</td>\n",
       "      <td>False</td>\n",
       "      <td>False</td>\n",
       "    </tr>\n",
       "    <tr>\n",
       "      <th>1</th>\n",
       "      <td>False</td>\n",
       "      <td>False</td>\n",
       "      <td>False</td>\n",
       "      <td>False</td>\n",
       "      <td>True</td>\n",
       "    </tr>\n",
       "    <tr>\n",
       "      <th>2</th>\n",
       "      <td>False</td>\n",
       "      <td>False</td>\n",
       "      <td>True</td>\n",
       "      <td>False</td>\n",
       "      <td>True</td>\n",
       "    </tr>\n",
       "    <tr>\n",
       "      <th>3</th>\n",
       "      <td>False</td>\n",
       "      <td>False</td>\n",
       "      <td>False</td>\n",
       "      <td>False</td>\n",
       "      <td>False</td>\n",
       "    </tr>\n",
       "    <tr>\n",
       "      <th>4</th>\n",
       "      <td>False</td>\n",
       "      <td>False</td>\n",
       "      <td>False</td>\n",
       "      <td>False</td>\n",
       "      <td>True</td>\n",
       "    </tr>\n",
       "    <tr>\n",
       "      <th>...</th>\n",
       "      <td>...</td>\n",
       "      <td>...</td>\n",
       "      <td>...</td>\n",
       "      <td>...</td>\n",
       "      <td>...</td>\n",
       "    </tr>\n",
       "    <tr>\n",
       "      <th>17971</th>\n",
       "      <td>True</td>\n",
       "      <td>False</td>\n",
       "      <td>False</td>\n",
       "      <td>False</td>\n",
       "      <td>True</td>\n",
       "    </tr>\n",
       "    <tr>\n",
       "      <th>17972</th>\n",
       "      <td>True</td>\n",
       "      <td>False</td>\n",
       "      <td>False</td>\n",
       "      <td>False</td>\n",
       "      <td>True</td>\n",
       "    </tr>\n",
       "    <tr>\n",
       "      <th>17973</th>\n",
       "      <td>True</td>\n",
       "      <td>False</td>\n",
       "      <td>False</td>\n",
       "      <td>False</td>\n",
       "      <td>False</td>\n",
       "    </tr>\n",
       "    <tr>\n",
       "      <th>17974</th>\n",
       "      <td>True</td>\n",
       "      <td>False</td>\n",
       "      <td>False</td>\n",
       "      <td>False</td>\n",
       "      <td>True</td>\n",
       "    </tr>\n",
       "    <tr>\n",
       "      <th>17975</th>\n",
       "      <td>True</td>\n",
       "      <td>False</td>\n",
       "      <td>False</td>\n",
       "      <td>False</td>\n",
       "      <td>False</td>\n",
       "    </tr>\n",
       "  </tbody>\n",
       "</table>\n",
       "<p>17976 rows × 5 columns</p>\n",
       "</div>"
      ],
      "text/plain": [
       "       reward_Cash Back  reward_Points  mailer_type_Postcard   \n",
       "0                 False          False                 False  \\\n",
       "1                 False          False                 False   \n",
       "2                 False          False                  True   \n",
       "3                 False          False                 False   \n",
       "4                 False          False                 False   \n",
       "...                 ...            ...                   ...   \n",
       "17971              True          False                 False   \n",
       "17972              True          False                 False   \n",
       "17973              True          False                 False   \n",
       "17974              True          False                 False   \n",
       "17975              True          False                 False   \n",
       "\n",
       "       overdraft_protection_Yes  own_your_home_Yes  \n",
       "0                         False              False  \n",
       "1                         False               True  \n",
       "2                         False               True  \n",
       "3                         False              False  \n",
       "4                         False               True  \n",
       "...                         ...                ...  \n",
       "17971                     False               True  \n",
       "17972                     False               True  \n",
       "17973                     False              False  \n",
       "17974                     False               True  \n",
       "17975                     False              False  \n",
       "\n",
       "[17976 rows x 5 columns]"
      ]
     },
     "execution_count": 36,
     "metadata": {},
     "output_type": "execute_result"
    }
   ],
   "source": [
    "categorical_data"
   ]
  },
  {
   "cell_type": "code",
   "execution_count": 37,
   "id": "f941b97e-5e13-4c16-a776-51fd9cc68309",
   "metadata": {},
   "outputs": [],
   "source": [
    "income_data = pd.DataFrame(income_oe_data, columns=['income_level'])"
   ]
  },
  {
   "cell_type": "code",
   "execution_count": 38,
   "id": "130da70c-7a95-4369-ae7f-8fec479636f2",
   "metadata": {},
   "outputs": [],
   "source": [
    "income_data = income_data.reset_index(drop = True)"
   ]
  },
  {
   "cell_type": "code",
   "execution_count": 39,
   "id": "735bfc90-ecbd-435d-8997-c60d8904c8c3",
   "metadata": {},
   "outputs": [
    {
     "data": {
      "text/html": [
       "<div>\n",
       "<style scoped>\n",
       "    .dataframe tbody tr th:only-of-type {\n",
       "        vertical-align: middle;\n",
       "    }\n",
       "\n",
       "    .dataframe tbody tr th {\n",
       "        vertical-align: top;\n",
       "    }\n",
       "\n",
       "    .dataframe thead th {\n",
       "        text-align: right;\n",
       "    }\n",
       "</style>\n",
       "<table border=\"1\" class=\"dataframe\">\n",
       "  <thead>\n",
       "    <tr style=\"text-align: right;\">\n",
       "      <th></th>\n",
       "      <th>income_level</th>\n",
       "    </tr>\n",
       "  </thead>\n",
       "  <tbody>\n",
       "    <tr>\n",
       "      <th>0</th>\n",
       "      <td>2.0</td>\n",
       "    </tr>\n",
       "    <tr>\n",
       "      <th>1</th>\n",
       "      <td>1.0</td>\n",
       "    </tr>\n",
       "    <tr>\n",
       "      <th>2</th>\n",
       "      <td>2.0</td>\n",
       "    </tr>\n",
       "    <tr>\n",
       "      <th>3</th>\n",
       "      <td>1.0</td>\n",
       "    </tr>\n",
       "    <tr>\n",
       "      <th>4</th>\n",
       "      <td>1.0</td>\n",
       "    </tr>\n",
       "    <tr>\n",
       "      <th>...</th>\n",
       "      <td>...</td>\n",
       "    </tr>\n",
       "    <tr>\n",
       "      <th>17971</th>\n",
       "      <td>2.0</td>\n",
       "    </tr>\n",
       "    <tr>\n",
       "      <th>17972</th>\n",
       "      <td>2.0</td>\n",
       "    </tr>\n",
       "    <tr>\n",
       "      <th>17973</th>\n",
       "      <td>2.0</td>\n",
       "    </tr>\n",
       "    <tr>\n",
       "      <th>17974</th>\n",
       "      <td>1.0</td>\n",
       "    </tr>\n",
       "    <tr>\n",
       "      <th>17975</th>\n",
       "      <td>0.0</td>\n",
       "    </tr>\n",
       "  </tbody>\n",
       "</table>\n",
       "<p>17976 rows × 1 columns</p>\n",
       "</div>"
      ],
      "text/plain": [
       "       income_level\n",
       "0               2.0\n",
       "1               1.0\n",
       "2               2.0\n",
       "3               1.0\n",
       "4               1.0\n",
       "...             ...\n",
       "17971           2.0\n",
       "17972           2.0\n",
       "17973           2.0\n",
       "17974           1.0\n",
       "17975           0.0\n",
       "\n",
       "[17976 rows x 1 columns]"
      ]
     },
     "execution_count": 39,
     "metadata": {},
     "output_type": "execute_result"
    }
   ],
   "source": [
    "income_data"
   ]
  },
  {
   "cell_type": "code",
   "execution_count": 40,
   "id": "74bee881-0e27-4b1d-85e5-e6e1bf2a5c94",
   "metadata": {},
   "outputs": [
    {
     "data": {
      "text/plain": [
       "(17976, 1)"
      ]
     },
     "execution_count": 40,
     "metadata": {},
     "output_type": "execute_result"
    }
   ],
   "source": [
    "income_data.shape"
   ]
  },
  {
   "cell_type": "code",
   "execution_count": 41,
   "id": "8dce7341-0b5e-4a73-a9c0-c428525d9338",
   "metadata": {},
   "outputs": [],
   "source": [
    "rating_data = pd.DataFrame(rating_oe_data, columns=['credit_rating'])"
   ]
  },
  {
   "cell_type": "code",
   "execution_count": 42,
   "id": "383fac9e-d9c4-41f9-98d6-1e0dbed71afa",
   "metadata": {},
   "outputs": [],
   "source": [
    "rating_data = rating_data.reset_index(drop = True)"
   ]
  },
  {
   "cell_type": "code",
   "execution_count": 43,
   "id": "27c3ca2a-ce8c-4afb-ab28-2c2878b9d41f",
   "metadata": {},
   "outputs": [
    {
     "data": {
      "text/html": [
       "<div>\n",
       "<style scoped>\n",
       "    .dataframe tbody tr th:only-of-type {\n",
       "        vertical-align: middle;\n",
       "    }\n",
       "\n",
       "    .dataframe tbody tr th {\n",
       "        vertical-align: top;\n",
       "    }\n",
       "\n",
       "    .dataframe thead th {\n",
       "        text-align: right;\n",
       "    }\n",
       "</style>\n",
       "<table border=\"1\" class=\"dataframe\">\n",
       "  <thead>\n",
       "    <tr style=\"text-align: right;\">\n",
       "      <th></th>\n",
       "      <th>credit_rating</th>\n",
       "    </tr>\n",
       "  </thead>\n",
       "  <tbody>\n",
       "    <tr>\n",
       "      <th>0</th>\n",
       "      <td>2.0</td>\n",
       "    </tr>\n",
       "    <tr>\n",
       "      <th>1</th>\n",
       "      <td>1.0</td>\n",
       "    </tr>\n",
       "    <tr>\n",
       "      <th>2</th>\n",
       "      <td>1.0</td>\n",
       "    </tr>\n",
       "    <tr>\n",
       "      <th>3</th>\n",
       "      <td>2.0</td>\n",
       "    </tr>\n",
       "    <tr>\n",
       "      <th>4</th>\n",
       "      <td>1.0</td>\n",
       "    </tr>\n",
       "    <tr>\n",
       "      <th>...</th>\n",
       "      <td>...</td>\n",
       "    </tr>\n",
       "    <tr>\n",
       "      <th>17971</th>\n",
       "      <td>0.0</td>\n",
       "    </tr>\n",
       "    <tr>\n",
       "      <th>17972</th>\n",
       "      <td>0.0</td>\n",
       "    </tr>\n",
       "    <tr>\n",
       "      <th>17973</th>\n",
       "      <td>0.0</td>\n",
       "    </tr>\n",
       "    <tr>\n",
       "      <th>17974</th>\n",
       "      <td>1.0</td>\n",
       "    </tr>\n",
       "    <tr>\n",
       "      <th>17975</th>\n",
       "      <td>1.0</td>\n",
       "    </tr>\n",
       "  </tbody>\n",
       "</table>\n",
       "<p>17976 rows × 1 columns</p>\n",
       "</div>"
      ],
      "text/plain": [
       "       credit_rating\n",
       "0                2.0\n",
       "1                1.0\n",
       "2                1.0\n",
       "3                2.0\n",
       "4                1.0\n",
       "...              ...\n",
       "17971            0.0\n",
       "17972            0.0\n",
       "17973            0.0\n",
       "17974            1.0\n",
       "17975            1.0\n",
       "\n",
       "[17976 rows x 1 columns]"
      ]
     },
     "execution_count": 43,
     "metadata": {},
     "output_type": "execute_result"
    }
   ],
   "source": [
    "rating_data"
   ]
  },
  {
   "cell_type": "code",
   "execution_count": 44,
   "id": "6e81d3ce-cb56-4561-95b7-6cb9ca0d7524",
   "metadata": {},
   "outputs": [
    {
     "data": {
      "text/plain": [
       "(17976, 1)"
      ]
     },
     "execution_count": 44,
     "metadata": {},
     "output_type": "execute_result"
    }
   ],
   "source": [
    "rating_data.shape"
   ]
  },
  {
   "cell_type": "code",
   "execution_count": 45,
   "id": "4e898115-9488-4675-810a-55fd4a228fe3",
   "metadata": {},
   "outputs": [],
   "source": [
    "categorical_data = pd.concat([categorical_data, income_data, rating_data], axis = 1)"
   ]
  },
  {
   "cell_type": "code",
   "execution_count": 46,
   "id": "8e25366f-b2ff-45cb-bea2-032a9321ffe3",
   "metadata": {},
   "outputs": [
    {
     "data": {
      "text/html": [
       "<div>\n",
       "<style scoped>\n",
       "    .dataframe tbody tr th:only-of-type {\n",
       "        vertical-align: middle;\n",
       "    }\n",
       "\n",
       "    .dataframe tbody tr th {\n",
       "        vertical-align: top;\n",
       "    }\n",
       "\n",
       "    .dataframe thead th {\n",
       "        text-align: right;\n",
       "    }\n",
       "</style>\n",
       "<table border=\"1\" class=\"dataframe\">\n",
       "  <thead>\n",
       "    <tr style=\"text-align: right;\">\n",
       "      <th></th>\n",
       "      <th>reward_Cash Back</th>\n",
       "      <th>reward_Points</th>\n",
       "      <th>mailer_type_Postcard</th>\n",
       "      <th>overdraft_protection_Yes</th>\n",
       "      <th>own_your_home_Yes</th>\n",
       "      <th>income_level</th>\n",
       "      <th>credit_rating</th>\n",
       "    </tr>\n",
       "  </thead>\n",
       "  <tbody>\n",
       "    <tr>\n",
       "      <th>0</th>\n",
       "      <td>False</td>\n",
       "      <td>False</td>\n",
       "      <td>False</td>\n",
       "      <td>False</td>\n",
       "      <td>False</td>\n",
       "      <td>2.0</td>\n",
       "      <td>2.0</td>\n",
       "    </tr>\n",
       "    <tr>\n",
       "      <th>1</th>\n",
       "      <td>False</td>\n",
       "      <td>False</td>\n",
       "      <td>False</td>\n",
       "      <td>False</td>\n",
       "      <td>True</td>\n",
       "      <td>1.0</td>\n",
       "      <td>1.0</td>\n",
       "    </tr>\n",
       "    <tr>\n",
       "      <th>2</th>\n",
       "      <td>False</td>\n",
       "      <td>False</td>\n",
       "      <td>True</td>\n",
       "      <td>False</td>\n",
       "      <td>True</td>\n",
       "      <td>2.0</td>\n",
       "      <td>1.0</td>\n",
       "    </tr>\n",
       "    <tr>\n",
       "      <th>3</th>\n",
       "      <td>False</td>\n",
       "      <td>False</td>\n",
       "      <td>False</td>\n",
       "      <td>False</td>\n",
       "      <td>False</td>\n",
       "      <td>1.0</td>\n",
       "      <td>2.0</td>\n",
       "    </tr>\n",
       "    <tr>\n",
       "      <th>4</th>\n",
       "      <td>False</td>\n",
       "      <td>False</td>\n",
       "      <td>False</td>\n",
       "      <td>False</td>\n",
       "      <td>True</td>\n",
       "      <td>1.0</td>\n",
       "      <td>1.0</td>\n",
       "    </tr>\n",
       "    <tr>\n",
       "      <th>...</th>\n",
       "      <td>...</td>\n",
       "      <td>...</td>\n",
       "      <td>...</td>\n",
       "      <td>...</td>\n",
       "      <td>...</td>\n",
       "      <td>...</td>\n",
       "      <td>...</td>\n",
       "    </tr>\n",
       "    <tr>\n",
       "      <th>17971</th>\n",
       "      <td>True</td>\n",
       "      <td>False</td>\n",
       "      <td>False</td>\n",
       "      <td>False</td>\n",
       "      <td>True</td>\n",
       "      <td>2.0</td>\n",
       "      <td>0.0</td>\n",
       "    </tr>\n",
       "    <tr>\n",
       "      <th>17972</th>\n",
       "      <td>True</td>\n",
       "      <td>False</td>\n",
       "      <td>False</td>\n",
       "      <td>False</td>\n",
       "      <td>True</td>\n",
       "      <td>2.0</td>\n",
       "      <td>0.0</td>\n",
       "    </tr>\n",
       "    <tr>\n",
       "      <th>17973</th>\n",
       "      <td>True</td>\n",
       "      <td>False</td>\n",
       "      <td>False</td>\n",
       "      <td>False</td>\n",
       "      <td>False</td>\n",
       "      <td>2.0</td>\n",
       "      <td>0.0</td>\n",
       "    </tr>\n",
       "    <tr>\n",
       "      <th>17974</th>\n",
       "      <td>True</td>\n",
       "      <td>False</td>\n",
       "      <td>False</td>\n",
       "      <td>False</td>\n",
       "      <td>True</td>\n",
       "      <td>1.0</td>\n",
       "      <td>1.0</td>\n",
       "    </tr>\n",
       "    <tr>\n",
       "      <th>17975</th>\n",
       "      <td>True</td>\n",
       "      <td>False</td>\n",
       "      <td>False</td>\n",
       "      <td>False</td>\n",
       "      <td>False</td>\n",
       "      <td>0.0</td>\n",
       "      <td>1.0</td>\n",
       "    </tr>\n",
       "  </tbody>\n",
       "</table>\n",
       "<p>17976 rows × 7 columns</p>\n",
       "</div>"
      ],
      "text/plain": [
       "       reward_Cash Back  reward_Points  mailer_type_Postcard   \n",
       "0                 False          False                 False  \\\n",
       "1                 False          False                 False   \n",
       "2                 False          False                  True   \n",
       "3                 False          False                 False   \n",
       "4                 False          False                 False   \n",
       "...                 ...            ...                   ...   \n",
       "17971              True          False                 False   \n",
       "17972              True          False                 False   \n",
       "17973              True          False                 False   \n",
       "17974              True          False                 False   \n",
       "17975              True          False                 False   \n",
       "\n",
       "       overdraft_protection_Yes  own_your_home_Yes  income_level   \n",
       "0                         False              False           2.0  \\\n",
       "1                         False               True           1.0   \n",
       "2                         False               True           2.0   \n",
       "3                         False              False           1.0   \n",
       "4                         False               True           1.0   \n",
       "...                         ...                ...           ...   \n",
       "17971                     False               True           2.0   \n",
       "17972                     False               True           2.0   \n",
       "17973                     False              False           2.0   \n",
       "17974                     False               True           1.0   \n",
       "17975                     False              False           0.0   \n",
       "\n",
       "       credit_rating  \n",
       "0                2.0  \n",
       "1                1.0  \n",
       "2                1.0  \n",
       "3                2.0  \n",
       "4                1.0  \n",
       "...              ...  \n",
       "17971            0.0  \n",
       "17972            0.0  \n",
       "17973            0.0  \n",
       "17974            1.0  \n",
       "17975            1.0  \n",
       "\n",
       "[17976 rows x 7 columns]"
      ]
     },
     "execution_count": 46,
     "metadata": {},
     "output_type": "execute_result"
    }
   ],
   "source": [
    "categorical_data"
   ]
  },
  {
   "cell_type": "markdown",
   "id": "87259291-ba50-48ca-8144-dab09a3305a7",
   "metadata": {
    "tags": []
   },
   "source": [
    "### Get dataframe to it use into analysis"
   ]
  },
  {
   "cell_type": "code",
   "execution_count": 47,
   "id": "66aab6ef-7136-44e1-9c0d-b4de9f27f398",
   "metadata": {},
   "outputs": [],
   "source": [
    "full_data = pd.concat([numerical_data, categorical_data], axis = 1).reset_index(drop = True)"
   ]
  },
  {
   "cell_type": "code",
   "execution_count": 48,
   "id": "48a5979f-eff9-415b-9a59-24a4b890436e",
   "metadata": {},
   "outputs": [],
   "source": [
    "full_data.columns = full_data.columns.str.lower().str.replace(' ', '_')"
   ]
  },
  {
   "cell_type": "code",
   "execution_count": 49,
   "id": "296c0629-a6a8-4000-987a-848b08efa0d6",
   "metadata": {},
   "outputs": [
    {
     "data": {
      "text/html": [
       "<div>\n",
       "<style scoped>\n",
       "    .dataframe tbody tr th:only-of-type {\n",
       "        vertical-align: middle;\n",
       "    }\n",
       "\n",
       "    .dataframe tbody tr th {\n",
       "        vertical-align: top;\n",
       "    }\n",
       "\n",
       "    .dataframe thead th {\n",
       "        text-align: right;\n",
       "    }\n",
       "</style>\n",
       "<table border=\"1\" class=\"dataframe\">\n",
       "  <thead>\n",
       "    <tr style=\"text-align: right;\">\n",
       "      <th></th>\n",
       "      <th>offer_accepted</th>\n",
       "      <th>bank_accounts_open</th>\n",
       "      <th>credit_cards_held</th>\n",
       "      <th>homes_owned</th>\n",
       "      <th>household_size</th>\n",
       "      <th>balance_q1</th>\n",
       "      <th>balance_q2</th>\n",
       "      <th>balance_q3</th>\n",
       "      <th>balance_q4</th>\n",
       "      <th>reward_cash_back</th>\n",
       "      <th>reward_points</th>\n",
       "      <th>mailer_type_postcard</th>\n",
       "      <th>overdraft_protection_yes</th>\n",
       "      <th>own_your_home_yes</th>\n",
       "      <th>income_level</th>\n",
       "      <th>credit_rating</th>\n",
       "    </tr>\n",
       "  </thead>\n",
       "  <tbody>\n",
       "    <tr>\n",
       "      <th>0</th>\n",
       "      <td>0</td>\n",
       "      <td>1</td>\n",
       "      <td>2</td>\n",
       "      <td>1</td>\n",
       "      <td>4</td>\n",
       "      <td>1669.0</td>\n",
       "      <td>877.0</td>\n",
       "      <td>1095.0</td>\n",
       "      <td>1002.0</td>\n",
       "      <td>False</td>\n",
       "      <td>False</td>\n",
       "      <td>False</td>\n",
       "      <td>False</td>\n",
       "      <td>False</td>\n",
       "      <td>2.0</td>\n",
       "      <td>2.0</td>\n",
       "    </tr>\n",
       "    <tr>\n",
       "      <th>1</th>\n",
       "      <td>0</td>\n",
       "      <td>1</td>\n",
       "      <td>2</td>\n",
       "      <td>2</td>\n",
       "      <td>5</td>\n",
       "      <td>39.0</td>\n",
       "      <td>106.0</td>\n",
       "      <td>78.0</td>\n",
       "      <td>366.0</td>\n",
       "      <td>False</td>\n",
       "      <td>False</td>\n",
       "      <td>False</td>\n",
       "      <td>False</td>\n",
       "      <td>True</td>\n",
       "      <td>1.0</td>\n",
       "      <td>1.0</td>\n",
       "    </tr>\n",
       "    <tr>\n",
       "      <th>2</th>\n",
       "      <td>0</td>\n",
       "      <td>2</td>\n",
       "      <td>2</td>\n",
       "      <td>1</td>\n",
       "      <td>2</td>\n",
       "      <td>367.0</td>\n",
       "      <td>352.0</td>\n",
       "      <td>145.0</td>\n",
       "      <td>242.0</td>\n",
       "      <td>False</td>\n",
       "      <td>False</td>\n",
       "      <td>True</td>\n",
       "      <td>False</td>\n",
       "      <td>True</td>\n",
       "      <td>2.0</td>\n",
       "      <td>1.0</td>\n",
       "    </tr>\n",
       "    <tr>\n",
       "      <th>3</th>\n",
       "      <td>0</td>\n",
       "      <td>2</td>\n",
       "      <td>1</td>\n",
       "      <td>1</td>\n",
       "      <td>4</td>\n",
       "      <td>1578.0</td>\n",
       "      <td>1760.0</td>\n",
       "      <td>1119.0</td>\n",
       "      <td>419.0</td>\n",
       "      <td>False</td>\n",
       "      <td>False</td>\n",
       "      <td>False</td>\n",
       "      <td>False</td>\n",
       "      <td>False</td>\n",
       "      <td>1.0</td>\n",
       "      <td>2.0</td>\n",
       "    </tr>\n",
       "    <tr>\n",
       "      <th>4</th>\n",
       "      <td>0</td>\n",
       "      <td>1</td>\n",
       "      <td>2</td>\n",
       "      <td>1</td>\n",
       "      <td>6</td>\n",
       "      <td>2140.0</td>\n",
       "      <td>1357.0</td>\n",
       "      <td>982.0</td>\n",
       "      <td>365.0</td>\n",
       "      <td>False</td>\n",
       "      <td>False</td>\n",
       "      <td>False</td>\n",
       "      <td>False</td>\n",
       "      <td>True</td>\n",
       "      <td>1.0</td>\n",
       "      <td>1.0</td>\n",
       "    </tr>\n",
       "    <tr>\n",
       "      <th>...</th>\n",
       "      <td>...</td>\n",
       "      <td>...</td>\n",
       "      <td>...</td>\n",
       "      <td>...</td>\n",
       "      <td>...</td>\n",
       "      <td>...</td>\n",
       "      <td>...</td>\n",
       "      <td>...</td>\n",
       "      <td>...</td>\n",
       "      <td>...</td>\n",
       "      <td>...</td>\n",
       "      <td>...</td>\n",
       "      <td>...</td>\n",
       "      <td>...</td>\n",
       "      <td>...</td>\n",
       "      <td>...</td>\n",
       "    </tr>\n",
       "    <tr>\n",
       "      <th>17971</th>\n",
       "      <td>0</td>\n",
       "      <td>1</td>\n",
       "      <td>1</td>\n",
       "      <td>1</td>\n",
       "      <td>5</td>\n",
       "      <td>136.0</td>\n",
       "      <td>65.0</td>\n",
       "      <td>71.0</td>\n",
       "      <td>398.0</td>\n",
       "      <td>True</td>\n",
       "      <td>False</td>\n",
       "      <td>False</td>\n",
       "      <td>False</td>\n",
       "      <td>True</td>\n",
       "      <td>2.0</td>\n",
       "      <td>0.0</td>\n",
       "    </tr>\n",
       "    <tr>\n",
       "      <th>17972</th>\n",
       "      <td>0</td>\n",
       "      <td>1</td>\n",
       "      <td>3</td>\n",
       "      <td>1</td>\n",
       "      <td>3</td>\n",
       "      <td>984.0</td>\n",
       "      <td>940.0</td>\n",
       "      <td>943.0</td>\n",
       "      <td>535.0</td>\n",
       "      <td>True</td>\n",
       "      <td>False</td>\n",
       "      <td>False</td>\n",
       "      <td>False</td>\n",
       "      <td>True</td>\n",
       "      <td>2.0</td>\n",
       "      <td>0.0</td>\n",
       "    </tr>\n",
       "    <tr>\n",
       "      <th>17973</th>\n",
       "      <td>0</td>\n",
       "      <td>1</td>\n",
       "      <td>2</td>\n",
       "      <td>1</td>\n",
       "      <td>4</td>\n",
       "      <td>918.0</td>\n",
       "      <td>767.0</td>\n",
       "      <td>1170.0</td>\n",
       "      <td>1494.0</td>\n",
       "      <td>True</td>\n",
       "      <td>False</td>\n",
       "      <td>False</td>\n",
       "      <td>False</td>\n",
       "      <td>False</td>\n",
       "      <td>2.0</td>\n",
       "      <td>0.0</td>\n",
       "    </tr>\n",
       "    <tr>\n",
       "      <th>17974</th>\n",
       "      <td>0</td>\n",
       "      <td>1</td>\n",
       "      <td>4</td>\n",
       "      <td>2</td>\n",
       "      <td>2</td>\n",
       "      <td>626.0</td>\n",
       "      <td>983.0</td>\n",
       "      <td>865.0</td>\n",
       "      <td>1615.0</td>\n",
       "      <td>True</td>\n",
       "      <td>False</td>\n",
       "      <td>False</td>\n",
       "      <td>False</td>\n",
       "      <td>True</td>\n",
       "      <td>1.0</td>\n",
       "      <td>1.0</td>\n",
       "    </tr>\n",
       "    <tr>\n",
       "      <th>17975</th>\n",
       "      <td>0</td>\n",
       "      <td>2</td>\n",
       "      <td>2</td>\n",
       "      <td>1</td>\n",
       "      <td>3</td>\n",
       "      <td>265.0</td>\n",
       "      <td>1378.0</td>\n",
       "      <td>1978.0</td>\n",
       "      <td>603.0</td>\n",
       "      <td>True</td>\n",
       "      <td>False</td>\n",
       "      <td>False</td>\n",
       "      <td>False</td>\n",
       "      <td>False</td>\n",
       "      <td>0.0</td>\n",
       "      <td>1.0</td>\n",
       "    </tr>\n",
       "  </tbody>\n",
       "</table>\n",
       "<p>17976 rows × 16 columns</p>\n",
       "</div>"
      ],
      "text/plain": [
       "       offer_accepted  bank_accounts_open  credit_cards_held  homes_owned   \n",
       "0                   0                   1                  2            1  \\\n",
       "1                   0                   1                  2            2   \n",
       "2                   0                   2                  2            1   \n",
       "3                   0                   2                  1            1   \n",
       "4                   0                   1                  2            1   \n",
       "...               ...                 ...                ...          ...   \n",
       "17971               0                   1                  1            1   \n",
       "17972               0                   1                  3            1   \n",
       "17973               0                   1                  2            1   \n",
       "17974               0                   1                  4            2   \n",
       "17975               0                   2                  2            1   \n",
       "\n",
       "       household_size  balance_q1  balance_q2  balance_q3  balance_q4   \n",
       "0                   4      1669.0       877.0      1095.0      1002.0  \\\n",
       "1                   5        39.0       106.0        78.0       366.0   \n",
       "2                   2       367.0       352.0       145.0       242.0   \n",
       "3                   4      1578.0      1760.0      1119.0       419.0   \n",
       "4                   6      2140.0      1357.0       982.0       365.0   \n",
       "...               ...         ...         ...         ...         ...   \n",
       "17971               5       136.0        65.0        71.0       398.0   \n",
       "17972               3       984.0       940.0       943.0       535.0   \n",
       "17973               4       918.0       767.0      1170.0      1494.0   \n",
       "17974               2       626.0       983.0       865.0      1615.0   \n",
       "17975               3       265.0      1378.0      1978.0       603.0   \n",
       "\n",
       "       reward_cash_back  reward_points  mailer_type_postcard   \n",
       "0                 False          False                 False  \\\n",
       "1                 False          False                 False   \n",
       "2                 False          False                  True   \n",
       "3                 False          False                 False   \n",
       "4                 False          False                 False   \n",
       "...                 ...            ...                   ...   \n",
       "17971              True          False                 False   \n",
       "17972              True          False                 False   \n",
       "17973              True          False                 False   \n",
       "17974              True          False                 False   \n",
       "17975              True          False                 False   \n",
       "\n",
       "       overdraft_protection_yes  own_your_home_yes  income_level   \n",
       "0                         False              False           2.0  \\\n",
       "1                         False               True           1.0   \n",
       "2                         False               True           2.0   \n",
       "3                         False              False           1.0   \n",
       "4                         False               True           1.0   \n",
       "...                         ...                ...           ...   \n",
       "17971                     False               True           2.0   \n",
       "17972                     False               True           2.0   \n",
       "17973                     False              False           2.0   \n",
       "17974                     False               True           1.0   \n",
       "17975                     False              False           0.0   \n",
       "\n",
       "       credit_rating  \n",
       "0                2.0  \n",
       "1                1.0  \n",
       "2                1.0  \n",
       "3                2.0  \n",
       "4                1.0  \n",
       "...              ...  \n",
       "17971            0.0  \n",
       "17972            0.0  \n",
       "17973            0.0  \n",
       "17974            1.0  \n",
       "17975            1.0  \n",
       "\n",
       "[17976 rows x 16 columns]"
      ]
     },
     "execution_count": 49,
     "metadata": {},
     "output_type": "execute_result"
    }
   ],
   "source": [
    "full_data"
   ]
  },
  {
   "cell_type": "markdown",
   "id": "920de647-289f-4aa4-8701-3e1bbadccdfb",
   "metadata": {
    "tags": []
   },
   "source": [
    "## Check data balance (classes)"
   ]
  },
  {
   "cell_type": "code",
   "execution_count": 50,
   "id": "d7d5747a-7e65-48b7-a34b-640d92614b29",
   "metadata": {},
   "outputs": [],
   "source": [
    "accepted, not_accepted = full_data['offer_accepted'].value_counts()"
   ]
  },
  {
   "cell_type": "code",
   "execution_count": 51,
   "id": "f189526b-e913-4090-9cf9-6dafed091f1e",
   "metadata": {},
   "outputs": [
    {
     "name": "stdout",
     "output_type": "stream",
     "text": [
      "Percentage of those clients that accepted the offer:  94.32%\n",
      "Percentage of those clients that didn't accept the offer:  5.68%\n"
     ]
    }
   ],
   "source": [
    "print('Percentage of those clients that accepted the offer: {: .2f}%'.format(accepted / (accepted + not_accepted) * 100))\n",
    "print(\"Percentage of those clients that didn't accept the offer: {: .2f}%\".format(not_accepted / (accepted + not_accepted) * 100))"
   ]
  },
  {
   "cell_type": "code",
   "execution_count": 52,
   "id": "60ff35a2-58c2-4177-addb-01cbccd07d47",
   "metadata": {},
   "outputs": [
    {
     "data": {
      "image/png": "[encoded data removed]",
      "text/plain": [
       "<Figure size 640x480 with 1 Axes>"
      ]
     },
     "metadata": {},
     "output_type": "display_data"
    }
   ],
   "source": [
    "sns.countplot(x = full_data['offer_accepted'], data = full_data)\n",
    "plt.show()"
   ]
  },
  {
   "cell_type": "markdown",
   "id": "4d1fa9d6-a371-4664-853d-ea16fe4c20c1",
   "metadata": {},
   "source": [
    "* We can notice that we have imbalanced into our target."
   ]
  },
  {
   "cell_type": "markdown",
   "id": "39911f2e-fdb6-40d2-828d-119b6d23e842",
   "metadata": {
    "tags": []
   },
   "source": [
    "## Split into train and test dataset"
   ]
  },
  {
   "cell_type": "markdown",
   "id": "7df99a78-cef6-4c04-a242-e5840c7bcdcf",
   "metadata": {},
   "source": [
    "### Initial model"
   ]
  },
  {
   "cell_type": "code",
   "execution_count": 53,
   "id": "4d32f7ba-ee77-4d64-8213-7faeb64887fe",
   "metadata": {},
   "outputs": [],
   "source": [
    "y = full_data['offer_accepted']"
   ]
  },
  {
   "cell_type": "code",
   "execution_count": 54,
   "id": "bccac070-a42b-4bbb-953a-acee9931e50b",
   "metadata": {},
   "outputs": [
    {
     "data": {
      "text/plain": [
       "(17976,)"
      ]
     },
     "execution_count": 54,
     "metadata": {},
     "output_type": "execute_result"
    }
   ],
   "source": [
    "y.shape"
   ]
  },
  {
   "cell_type": "code",
   "execution_count": 55,
   "id": "3036d5ee-1474-4715-a1d8-0bc71797c086",
   "metadata": {},
   "outputs": [],
   "source": [
    "X = full_data.drop(columns=['offer_accepted'])"
   ]
  },
  {
   "cell_type": "code",
   "execution_count": 56,
   "id": "9a47f649-cb09-45f9-939e-2b325655e88b",
   "metadata": {},
   "outputs": [
    {
     "data": {
      "text/plain": [
       "Index(['bank_accounts_open', 'credit_cards_held', 'homes_owned',\n",
       "       'household_size', 'balance_q1', 'balance_q2', 'balance_q3',\n",
       "       'balance_q4', 'reward_cash_back', 'reward_points',\n",
       "       'mailer_type_postcard', 'overdraft_protection_yes', 'own_your_home_yes',\n",
       "       'income_level', 'credit_rating'],\n",
       "      dtype='object')"
      ]
     },
     "execution_count": 56,
     "metadata": {},
     "output_type": "execute_result"
    }
   ],
   "source": [
    "X.columns"
   ]
  },
  {
   "cell_type": "code",
   "execution_count": 57,
   "id": "738e5c8e-128d-482c-818a-0cd084ad4778",
   "metadata": {},
   "outputs": [
    {
     "data": {
      "text/plain": [
       "(17976, 15)"
      ]
     },
     "execution_count": 57,
     "metadata": {},
     "output_type": "execute_result"
    }
   ],
   "source": [
    "X.shape"
   ]
  },
  {
   "cell_type": "code",
   "execution_count": 58,
   "id": "0f826779-57dc-49ab-80cd-15efa285289a",
   "metadata": {},
   "outputs": [],
   "source": [
    "X_train, X_test, y_train, y_test = train_test_split(X, y, test_size=0.2, random_state=42)"
   ]
  },
  {
   "cell_type": "code",
   "execution_count": 59,
   "id": "86aea0cb-f9d3-4958-897c-ac8a45c6394f",
   "metadata": {},
   "outputs": [
    {
     "data": {
      "text/plain": [
       "(14380,)"
      ]
     },
     "execution_count": 59,
     "metadata": {},
     "output_type": "execute_result"
    }
   ],
   "source": [
    "y_train.shape"
   ]
  },
  {
   "cell_type": "code",
   "execution_count": 60,
   "id": "235977d7-2353-4ab3-a803-384a4cf92036",
   "metadata": {},
   "outputs": [
    {
     "data": {
      "text/plain": [
       "(3596,)"
      ]
     },
     "execution_count": 60,
     "metadata": {},
     "output_type": "execute_result"
    }
   ],
   "source": [
    "y_test.shape"
   ]
  },
  {
   "cell_type": "markdown",
   "id": "72c01c52-e117-42bc-8a36-e36d7da11fdc",
   "metadata": {
    "tags": []
   },
   "source": [
    "### Using standard scaler"
   ]
  },
  {
   "cell_type": "code",
   "execution_count": 61,
   "id": "e02410f8-30c3-46bc-a8fd-eb5d773ce224",
   "metadata": {},
   "outputs": [],
   "source": [
    "scaler = StandardScaler()"
   ]
  },
  {
   "cell_type": "code",
   "execution_count": 64,
   "id": "fbca22e4-5a62-4644-879c-34f7641f0ca5",
   "metadata": {},
   "outputs": [],
   "source": [
    "X_train_scaler = scaler.fit_transform(X_train[numerical_data.drop(columns = ['offer_accepted']).columns])"
   ]
  },
  {
   "cell_type": "code",
   "execution_count": 66,
   "id": "b639a905-42df-41ce-a1bf-a4d5d151154e",
   "metadata": {},
   "outputs": [],
   "source": [
    "X_train_scaler = pd.DataFrame(X_train_scaler, columns=numerical_data.drop(columns = ['offer_accepted']).columns)"
   ]
  },
  {
   "cell_type": "code",
   "execution_count": 67,
   "id": "d2880a07-57f7-4871-a459-16b43ea6c4ce",
   "metadata": {},
   "outputs": [
    {
     "data": {
      "text/html": [
       "<div>\n",
       "<style scoped>\n",
       "    .dataframe tbody tr th:only-of-type {\n",
       "        vertical-align: middle;\n",
       "    }\n",
       "\n",
       "    .dataframe tbody tr th {\n",
       "        vertical-align: top;\n",
       "    }\n",
       "\n",
       "    .dataframe thead th {\n",
       "        text-align: right;\n",
       "    }\n",
       "</style>\n",
       "<table border=\"1\" class=\"dataframe\">\n",
       "  <thead>\n",
       "    <tr style=\"text-align: right;\">\n",
       "      <th></th>\n",
       "      <th>bank_accounts_open</th>\n",
       "      <th>credit_cards_held</th>\n",
       "      <th>homes_owned</th>\n",
       "      <th>household_size</th>\n",
       "      <th>balance_q1</th>\n",
       "      <th>balance_q2</th>\n",
       "      <th>balance_q3</th>\n",
       "      <th>balance_q4</th>\n",
       "    </tr>\n",
       "  </thead>\n",
       "  <tbody>\n",
       "    <tr>\n",
       "      <th>0</th>\n",
       "      <td>3.690233</td>\n",
       "      <td>-1.128987</td>\n",
       "      <td>1.866182</td>\n",
       "      <td>0.445944</td>\n",
       "      <td>1.192199</td>\n",
       "      <td>0.285196</td>\n",
       "      <td>-0.731415</td>\n",
       "      <td>-1.443416</td>\n",
       "    </tr>\n",
       "    <tr>\n",
       "      <th>1</th>\n",
       "      <td>-0.536919</td>\n",
       "      <td>0.126413</td>\n",
       "      <td>1.866182</td>\n",
       "      <td>0.445944</td>\n",
       "      <td>0.048746</td>\n",
       "      <td>-1.177445</td>\n",
       "      <td>1.280664</td>\n",
       "      <td>1.664062</td>\n",
       "    </tr>\n",
       "    <tr>\n",
       "      <th>2</th>\n",
       "      <td>-0.536919</td>\n",
       "      <td>0.126413</td>\n",
       "      <td>1.866182</td>\n",
       "      <td>0.445944</td>\n",
       "      <td>0.050356</td>\n",
       "      <td>1.704045</td>\n",
       "      <td>0.079936</td>\n",
       "      <td>0.302076</td>\n",
       "    </tr>\n",
       "    <tr>\n",
       "      <th>3</th>\n",
       "      <td>-0.536919</td>\n",
       "      <td>1.381813</td>\n",
       "      <td>1.866182</td>\n",
       "      <td>0.445944</td>\n",
       "      <td>-0.895006</td>\n",
       "      <td>0.692458</td>\n",
       "      <td>1.103180</td>\n",
       "      <td>1.040416</td>\n",
       "    </tr>\n",
       "    <tr>\n",
       "      <th>4</th>\n",
       "      <td>-0.536919</td>\n",
       "      <td>0.126413</td>\n",
       "      <td>-0.476933</td>\n",
       "      <td>-1.345307</td>\n",
       "      <td>-0.378036</td>\n",
       "      <td>-0.036673</td>\n",
       "      <td>1.018061</td>\n",
       "      <td>0.993822</td>\n",
       "    </tr>\n",
       "    <tr>\n",
       "      <th>...</th>\n",
       "      <td>...</td>\n",
       "      <td>...</td>\n",
       "      <td>...</td>\n",
       "      <td>...</td>\n",
       "      <td>...</td>\n",
       "      <td>...</td>\n",
       "      <td>...</td>\n",
       "      <td>...</td>\n",
       "    </tr>\n",
       "    <tr>\n",
       "      <th>14375</th>\n",
       "      <td>-0.536919</td>\n",
       "      <td>1.381813</td>\n",
       "      <td>-0.476933</td>\n",
       "      <td>-0.449681</td>\n",
       "      <td>-0.915943</td>\n",
       "      <td>-0.463641</td>\n",
       "      <td>0.706560</td>\n",
       "      <td>2.051153</td>\n",
       "    </tr>\n",
       "    <tr>\n",
       "      <th>14376</th>\n",
       "      <td>1.576657</td>\n",
       "      <td>0.126413</td>\n",
       "      <td>-0.476933</td>\n",
       "      <td>0.445944</td>\n",
       "      <td>0.602757</td>\n",
       "      <td>0.508533</td>\n",
       "      <td>0.168678</td>\n",
       "      <td>-0.938048</td>\n",
       "    </tr>\n",
       "    <tr>\n",
       "      <th>14377</th>\n",
       "      <td>1.576657</td>\n",
       "      <td>0.126413</td>\n",
       "      <td>-0.476933</td>\n",
       "      <td>2.237195</td>\n",
       "      <td>-0.535865</td>\n",
       "      <td>-0.630049</td>\n",
       "      <td>-0.894410</td>\n",
       "      <td>-0.448808</td>\n",
       "    </tr>\n",
       "    <tr>\n",
       "      <th>14378</th>\n",
       "      <td>-0.536919</td>\n",
       "      <td>-1.128987</td>\n",
       "      <td>-0.476933</td>\n",
       "      <td>0.445944</td>\n",
       "      <td>-1.402313</td>\n",
       "      <td>-2.121154</td>\n",
       "      <td>-1.466702</td>\n",
       "      <td>-0.855612</td>\n",
       "    </tr>\n",
       "    <tr>\n",
       "      <th>14379</th>\n",
       "      <td>-0.536919</td>\n",
       "      <td>-1.128987</td>\n",
       "      <td>-0.476933</td>\n",
       "      <td>-0.449681</td>\n",
       "      <td>-0.601896</td>\n",
       "      <td>0.050911</td>\n",
       "      <td>1.293341</td>\n",
       "      <td>-0.106519</td>\n",
       "    </tr>\n",
       "  </tbody>\n",
       "</table>\n",
       "<p>14380 rows × 8 columns</p>\n",
       "</div>"
      ],
      "text/plain": [
       "       bank_accounts_open  credit_cards_held  homes_owned  household_size   \n",
       "0                3.690233          -1.128987     1.866182        0.445944  \\\n",
       "1               -0.536919           0.126413     1.866182        0.445944   \n",
       "2               -0.536919           0.126413     1.866182        0.445944   \n",
       "3               -0.536919           1.381813     1.866182        0.445944   \n",
       "4               -0.536919           0.126413    -0.476933       -1.345307   \n",
       "...                   ...                ...          ...             ...   \n",
       "14375           -0.536919           1.381813    -0.476933       -0.449681   \n",
       "14376            1.576657           0.126413    -0.476933        0.445944   \n",
       "14377            1.576657           0.126413    -0.476933        2.237195   \n",
       "14378           -0.536919          -1.128987    -0.476933        0.445944   \n",
       "14379           -0.536919          -1.128987    -0.476933       -0.449681   \n",
       "\n",
       "       balance_q1  balance_q2  balance_q3  balance_q4  \n",
       "0        1.192199    0.285196   -0.731415   -1.443416  \n",
       "1        0.048746   -1.177445    1.280664    1.664062  \n",
       "2        0.050356    1.704045    0.079936    0.302076  \n",
       "3       -0.895006    0.692458    1.103180    1.040416  \n",
       "4       -0.378036   -0.036673    1.018061    0.993822  \n",
       "...           ...         ...         ...         ...  \n",
       "14375   -0.915943   -0.463641    0.706560    2.051153  \n",
       "14376    0.602757    0.508533    0.168678   -0.938048  \n",
       "14377   -0.535865   -0.630049   -0.894410   -0.448808  \n",
       "14378   -1.402313   -2.121154   -1.466702   -0.855612  \n",
       "14379   -0.601896    0.050911    1.293341   -0.106519  \n",
       "\n",
       "[14380 rows x 8 columns]"
      ]
     },
     "execution_count": 67,
     "metadata": {},
     "output_type": "execute_result"
    }
   ],
   "source": [
    "X_train_scaler"
   ]
  },
  {
   "cell_type": "code",
   "execution_count": 69,
   "id": "1ba3316f-80b2-408a-bc1d-85caea747baa",
   "metadata": {},
   "outputs": [
    {
     "data": {
      "image/png": "[encoded data removed]",
      "text/plain": [
       "<Figure size 640x480 with 1 Axes>"
      ]
     },
     "metadata": {},
     "output_type": "display_data"
    },
    {
     "data": {
      "image/png": "[encoded data removed]",
      "text/plain": [
       "<Figure size 640x480 with 1 Axes>"
      ]
     },
     "metadata": {},
     "output_type": "display_data"
    },
    {
     "data": {
      "image/png": "[encoded data removed]",
      "text/plain": [
       "<Figure size 640x480 with 1 Axes>"
      ]
     },
     "metadata": {},
     "output_type": "display_data"
    },
    {
     "data": {
      "image/png": "[encoded data removed]",
      "text/plain": [
       "<Figure size 640x480 with 1 Axes>"
      ]
     },
     "metadata": {},
     "output_type": "display_data"
    },
    {
     "data": {
      "image/png": "[encoded data removed]",
      "text/plain": [
       "<Figure size 640x480 with 1 Axes>"
      ]
     },
     "metadata": {},
     "output_type": "display_data"
    },
    {
     "data": {
      "image/png": "[encoded data removed]",
      "text/plain": [
       "<Figure size 640x480 with 1 Axes>"
      ]
     },
     "metadata": {},
     "output_type": "display_data"
    },
    {
     "data": {
      "image/png": "[encoded data removed]",
      "text/plain": [
       "<Figure size 640x480 with 1 Axes>"
      ]
     },
     "metadata": {},
     "output_type": "display_data"
    },
    {
     "data": {
      "image/png": "[encoded data removed]",
      "text/plain": [
       "<Figure size 640x480 with 1 Axes>"
      ]
     },
     "metadata": {},
     "output_type": "display_data"
    }
   ],
   "source": [
    "for column in X_train_scaler.columns:\n",
    "    sns.histplot(X_train_scaler[column], kde = True)\n",
    "    plt.show()"
   ]
  },
  {
   "cell_type": "markdown",
   "id": "18c75bcd-b0bd-46fb-b0e3-529fa42485c5",
   "metadata": {},
   "source": [
    "### Using MinMax scaler"
   ]
  },
  {
   "cell_type": "code",
   "execution_count": null,
   "id": "0fd55222-8b9c-4dfd-8d21-df5440e9acf4",
   "metadata": {},
   "outputs": [],
   "source": []
  },
  {
   "cell_type": "code",
   "execution_count": null,
   "id": "0eb1b73e-40fc-40cc-9c92-b34c37bc7f3a",
   "metadata": {},
   "outputs": [],
   "source": []
  },
  {
   "cell_type": "code",
   "execution_count": null,
   "id": "6c6d0c82-0cb0-4242-a5ae-7f1b4819b683",
   "metadata": {},
   "outputs": [],
   "source": []
  },
  {
   "cell_type": "code",
   "execution_count": null,
   "id": "e5dd133e-35e2-4c72-b7e7-bb9ab217a974",
   "metadata": {},
   "outputs": [],
   "source": []
  },
  {
   "cell_type": "markdown",
   "id": "1340f786-3600-4686-9bbd-ed7cbaa9fd06",
   "metadata": {
    "tags": []
   },
   "source": [
    "## Train model"
   ]
  },
  {
   "cell_type": "markdown",
   "id": "ee5dc734-fff1-4895-a0ef-9c753490136c",
   "metadata": {
    "tags": []
   },
   "source": [
    "### Initial model"
   ]
  },
  {
   "cell_type": "code",
   "execution_count": null,
   "id": "2fd17eae-e4b0-4e45-b79d-7e822ab4cc9b",
   "metadata": {},
   "outputs": [],
   "source": [
    "logistic_reg = LogisticRegression(random_state=0, solver='lbfgs', max_iter=700)"
   ]
  },
  {
   "cell_type": "code",
   "execution_count": null,
   "id": "2d915924-5c49-4498-9659-6849d0f18668",
   "metadata": {},
   "outputs": [],
   "source": [
    "logistic_reg.fit(X_train, y_train)"
   ]
  },
  {
   "cell_type": "code",
   "execution_count": null,
   "id": "277140c5-4dc1-4013-af8f-f7c298d98551",
   "metadata": {},
   "outputs": [],
   "source": [
    "logistic_reg.n_iter_"
   ]
  },
  {
   "cell_type": "code",
   "execution_count": null,
   "id": "30436470-5252-4bc4-8b7a-707c394150d6",
   "metadata": {},
   "outputs": [],
   "source": [
    "train_pred = logistic_reg.predict(X_train)"
   ]
  },
  {
   "cell_type": "code",
   "execution_count": null,
   "id": "abec1147-f6e8-4eb7-b6c8-7ce6e631d4fc",
   "metadata": {},
   "outputs": [],
   "source": [
    "train_pred"
   ]
  },
  {
   "cell_type": "code",
   "execution_count": null,
   "id": "9cfd5618-d467-4ff0-8e58-5ce9127bcf33",
   "metadata": {},
   "outputs": [],
   "source": [
    "test_pred = logistic_reg.predict(X_test)"
   ]
  },
  {
   "cell_type": "code",
   "execution_count": null,
   "id": "477a1e2d-7c84-4c82-88cd-66a930c82a5e",
   "metadata": {},
   "outputs": [],
   "source": [
    "test_pred"
   ]
  },
  {
   "cell_type": "markdown",
   "id": "ef659133-557a-44ff-9406-0b66ff5d236e",
   "metadata": {
    "tags": []
   },
   "source": [
    "### Using balanced data"
   ]
  },
  {
   "cell_type": "code",
   "execution_count": null,
   "id": "b3c40a71-12dc-4a00-a7a5-91a103e1f42d",
   "metadata": {},
   "outputs": [],
   "source": [
    "count_classes = full_data['offer_accepted'].value_counts()"
   ]
  },
  {
   "cell_type": "code",
   "execution_count": null,
   "id": "c193e429-bbc3-45c7-9927-9d7dd321470f",
   "metadata": {},
   "outputs": [],
   "source": [
    "count_classes"
   ]
  },
  {
   "cell_type": "code",
   "execution_count": null,
   "id": "ac8842f1-7537-48f2-9492-c59ee5ff8a27",
   "metadata": {},
   "outputs": [],
   "source": [
    "count_classes[0] / full_data.shape[0]"
   ]
  },
  {
   "cell_type": "code",
   "execution_count": null,
   "id": "a2eaaa19-f968-46e7-89b2-e9f6a73bdfb4",
   "metadata": {},
   "outputs": [],
   "source": [
    "(count_classes[0]-count_classes[1])/(count_classes[0]+count_classes[1])"
   ]
  },
  {
   "cell_type": "markdown",
   "id": "f4798297-2bd5-4052-838f-390c4ad4c04c",
   "metadata": {},
   "source": [
    "---------------------------------------"
   ]
  },
  {
   "cell_type": "markdown",
   "id": "b46f0dd8-af92-410a-bc69-c446d8124e38",
   "metadata": {
    "tags": []
   },
   "source": [
    "#### Oversampling"
   ]
  },
  {
   "cell_type": "code",
   "execution_count": null,
   "id": "af2457fd-5b8f-4966-85aa-3ed0f8446eba",
   "metadata": {},
   "outputs": [],
   "source": [
    "ros = RandomOverSampler(random_state=42)"
   ]
  },
  {
   "cell_type": "code",
   "execution_count": null,
   "id": "f1c1b4c9-b38a-4552-9772-7626186dc972",
   "metadata": {},
   "outputs": [],
   "source": [
    "X_train_over, y_train_over = ros.fit_resample(X_train,y_train)"
   ]
  },
  {
   "cell_type": "code",
   "execution_count": null,
   "id": "06559be0-7fc3-47d5-8784-1d564db4738f",
   "metadata": {},
   "outputs": [],
   "source": [
    "y_train_over.value_counts()"
   ]
  },
  {
   "cell_type": "code",
   "execution_count": null,
   "id": "033512b7-2752-42b8-8ab3-d0fe28f17df1",
   "metadata": {},
   "outputs": [],
   "source": [
    "print('Resampled dataset shape %s' % Counter(y_train_over))"
   ]
  },
  {
   "cell_type": "markdown",
   "id": "51d120ec-b0b5-4165-b4a2-990c3152a323",
   "metadata": {
    "tags": []
   },
   "source": [
    "#### Undersampling"
   ]
  },
  {
   "cell_type": "code",
   "execution_count": null,
   "id": "814ab690-8df5-48b8-b48f-d50748973047",
   "metadata": {},
   "outputs": [],
   "source": [
    "rus = RandomUnderSampler(random_state=42)"
   ]
  },
  {
   "cell_type": "code",
   "execution_count": null,
   "id": "2953278d-2c3c-4e71-874f-ea395a2ff565",
   "metadata": {},
   "outputs": [],
   "source": [
    "X_train_under, y_train_under = rus.fit_resample(X_train, y_train)"
   ]
  },
  {
   "cell_type": "code",
   "execution_count": null,
   "id": "99792263-2aa0-47eb-bc94-01fb933a485a",
   "metadata": {},
   "outputs": [],
   "source": [
    "y_train_under.value_counts()"
   ]
  },
  {
   "cell_type": "code",
   "execution_count": null,
   "id": "75972acf-8028-45c8-b7ff-dfefb840a4f9",
   "metadata": {},
   "outputs": [],
   "source": [
    "print('Resampled dataset shape %s' % Counter(y_train_under))"
   ]
  },
  {
   "cell_type": "markdown",
   "id": "c6e65450-4299-41dd-8db1-0ca4c8bc058c",
   "metadata": {
    "tags": []
   },
   "source": [
    "#### SMOTE"
   ]
  },
  {
   "cell_type": "code",
   "execution_count": null,
   "id": "3f71b433-a2ef-40b9-8e97-e357f6b4b834",
   "metadata": {},
   "outputs": [],
   "source": [
    "sm = SMOTE(random_state=100, k_neighbors=5)\n",
    "\n",
    "X_train_SMOTE, y_train_SMOTE = sm.fit_resample(X_train, y_train)"
   ]
  },
  {
   "cell_type": "code",
   "execution_count": null,
   "id": "c3638a68-9baa-4171-abb1-ea4e7c4d0ef0",
   "metadata": {},
   "outputs": [],
   "source": [
    "y_train_SMOTE.value_counts()"
   ]
  },
  {
   "cell_type": "code",
   "execution_count": null,
   "id": "6f30b0e6-ed16-404b-8b9b-7b34f7189014",
   "metadata": {},
   "outputs": [],
   "source": [
    "print('Resampled dataset shape %s' % Counter(y_train_SMOTE))"
   ]
  },
  {
   "cell_type": "markdown",
   "id": "3e3d03d6-c29f-4691-9f62-4c632a3883e9",
   "metadata": {
    "tags": []
   },
   "source": [
    "#### Tomeklinks"
   ]
  },
  {
   "cell_type": "code",
   "execution_count": null,
   "id": "6009bc3f-3c91-468f-a161-b582389fcc99",
   "metadata": {},
   "outputs": [],
   "source": [
    "tl = TomekLinks()\n",
    "X_train_tl, y_train_tl = tl.fit_resample(X_train, y_train)\n",
    "y_train_tl.value_counts()"
   ]
  },
  {
   "cell_type": "code",
   "execution_count": null,
   "id": "1f3c44bf-a024-498e-8c3c-85282f56fbf1",
   "metadata": {},
   "outputs": [],
   "source": [
    "print('Resampled dataset shape %s' % Counter(y_train_tl))"
   ]
  },
  {
   "cell_type": "markdown",
   "id": "c00fff10-5c77-42cf-87c7-f269d2c26bad",
   "metadata": {
    "tags": []
   },
   "source": [
    "## Test model"
   ]
  },
  {
   "cell_type": "markdown",
   "id": "e6cf35da-372c-441b-b6d8-9601126104b3",
   "metadata": {
    "tags": []
   },
   "source": [
    "### Initial model"
   ]
  },
  {
   "cell_type": "code",
   "execution_count": null,
   "id": "b2b11fec-1d66-40af-8946-f900dae831a4",
   "metadata": {},
   "outputs": [],
   "source": [
    "print(\"Train accuracy initial model: {:.2f}\".format(logistic_reg.score(X_train, y_train)))\n",
    "print(\"Test accuracy initial model: {:.2f}\".format(logistic_reg.score(X_test, y_test)))"
   ]
  },
  {
   "cell_type": "code",
   "execution_count": null,
   "id": "bc083ee0-b509-47a4-950f-a6c0b031088e",
   "metadata": {},
   "outputs": [],
   "source": [
    "cm_train = confusion_matrix(y_train, train_pred)\n",
    "cm_test = confusion_matrix(y_test, test_pred)"
   ]
  },
  {
   "cell_type": "code",
   "execution_count": null,
   "id": "cfa66e13-847c-41a7-b716-12048d197465",
   "metadata": {},
   "outputs": [],
   "source": [
    "disp = ConfusionMatrixDisplay(cm_train, display_labels=logistic_reg.classes_)\n",
    "disp.plot()\n",
    "plt.show()"
   ]
  },
  {
   "cell_type": "code",
   "execution_count": null,
   "id": "0bf61e21-1bcd-4833-995e-4b7e95473d1b",
   "metadata": {},
   "outputs": [],
   "source": [
    "disp = ConfusionMatrixDisplay(cm_test, display_labels=logistic_reg.classes_)\n",
    "disp.plot()\n",
    "plt.show()"
   ]
  },
  {
   "cell_type": "markdown",
   "id": "52cf0a77-e68d-4591-81b6-cf38fbcaf233",
   "metadata": {
    "tags": []
   },
   "source": [
    "### Using oversampling"
   ]
  },
  {
   "cell_type": "code",
   "execution_count": null,
   "id": "d38f6f4f-ac19-48d2-9744-f2103d6f93dd",
   "metadata": {},
   "outputs": [],
   "source": [
    "lr = LogisticRegression(max_iter=500)\n",
    "lr.fit(X_train_over, y_train_over)\n",
    "y_pred_test_ros = lr.predict(X_test)\n",
    "\n",
    "print(\"The accuracy in the TEST set is: {:.2f}\".format(accuracy_score(y_test,y_pred_test_ros)))\n",
    "print(\"The precision in the TEST set is: {:.2f}\".format(precision_score(y_test,y_pred_test_ros)))\n",
    "print(\"The recall in the TEST set is: {:.2f}\".format(recall_score(y_test,y_pred_test_ros)))\n",
    "print(\"The F1 in the TEST set is: {:.2f}\".format(f1_score(y_test,y_pred_test_ros)))\n",
    "print(\"The Kappa in the TEST set is: {:.2f}\".format(cohen_kappa_score(y_test,y_pred_test_ros)))"
   ]
  },
  {
   "cell_type": "code",
   "execution_count": null,
   "id": "4de1ba28-d1ba-4143-9d82-792156060544",
   "metadata": {},
   "outputs": [],
   "source": [
    "cm_test = confusion_matrix(y_test,y_pred_test_ros)\n",
    "disp = ConfusionMatrixDisplay(confusion_matrix=cm_test, display_labels=lr.classes_)\n",
    "disp.plot()\n",
    "plt.show()"
   ]
  },
  {
   "cell_type": "markdown",
   "id": "79355d77-6a70-494b-ada7-7f7032f8fd13",
   "metadata": {
    "tags": []
   },
   "source": [
    "### Using undersampling"
   ]
  },
  {
   "cell_type": "code",
   "execution_count": null,
   "id": "96add5e1-2b92-4eb8-b8da-f1e0d9871d50",
   "metadata": {},
   "outputs": [],
   "source": [
    "lr = LogisticRegression(max_iter=1000)\n",
    "lr.fit(X_train_under, y_train_under)\n",
    "y_pred_test_rus = lr.predict(X_test)\n",
    "\n",
    "print(\"The accuracy in the TEST set is: {:.2f}\".format(accuracy_score(y_test,y_pred_test_rus)))\n",
    "print(\"The precision in the TEST set is: {:.2f}\".format(precision_score(y_test,y_pred_test_rus)))\n",
    "print(\"The recall in the TEST set is: {:.2f}\".format(recall_score(y_test,y_pred_test_rus)))\n",
    "print(\"The F1 in the TEST set is: {:.2f}\".format(f1_score(y_test,y_pred_test_rus)))\n",
    "print(\"The Kappa in the TEST set is: {:.2f}\".format(cohen_kappa_score(y_test,y_pred_test_rus)))"
   ]
  },
  {
   "cell_type": "code",
   "execution_count": null,
   "id": "8535427f-f8d3-4590-a617-43ff4fc7a08a",
   "metadata": {},
   "outputs": [],
   "source": [
    "cm_test = confusion_matrix(y_test,y_pred_test_rus)\n",
    "disp = ConfusionMatrixDisplay(confusion_matrix=cm_test, display_labels=lr.classes_)\n",
    "disp.plot()\n",
    "plt.show()"
   ]
  },
  {
   "cell_type": "markdown",
   "id": "af36f514-711c-4ab2-a7df-bcf63b32fd5b",
   "metadata": {
    "tags": []
   },
   "source": [
    "### Using SMOTE"
   ]
  },
  {
   "cell_type": "code",
   "execution_count": null,
   "id": "42b3d5e6-6e94-47b1-8b87-5b751602abef",
   "metadata": {},
   "outputs": [],
   "source": [
    "lr = LogisticRegression(max_iter=1200)\n",
    "lr.fit(X_train_SMOTE, y_train_SMOTE)\n",
    "y_pred_test_SMOTE = lr.predict(X_test)\n",
    "\n",
    "print(\"The accuracy in the TEST set is: {:.2f}\".format(accuracy_score(y_test,y_pred_test_SMOTE)))\n",
    "print(\"The precision in the TEST set is: {:.2f}\".format(precision_score(y_test,y_pred_test_SMOTE)))\n",
    "print(\"The recall in the TEST set is: {:.2f}\".format(recall_score(y_test,y_pred_test_SMOTE)))\n",
    "print(\"The F1 in the TEST set is: {:.2f}\".format(f1_score(y_test,y_pred_test_SMOTE)))\n",
    "print(\"The Kappa in the TEST set is: {:.2f}\".format(cohen_kappa_score(y_test,y_pred_test_SMOTE)))"
   ]
  },
  {
   "cell_type": "code",
   "execution_count": null,
   "id": "a801c2e2-ac80-40cf-b63b-fd794e1e3247",
   "metadata": {},
   "outputs": [],
   "source": [
    "cm_test = confusion_matrix(y_test,y_pred_test_SMOTE)\n",
    "disp = ConfusionMatrixDisplay(confusion_matrix=cm_test, display_labels=lr.classes_)\n",
    "disp.plot()\n",
    "plt.show()"
   ]
  },
  {
   "cell_type": "markdown",
   "id": "3b1da7c7-b1d9-4d50-b649-4ddb0a480ed2",
   "metadata": {
    "tags": []
   },
   "source": [
    "### Using Tomeklink"
   ]
  },
  {
   "cell_type": "code",
   "execution_count": null,
   "id": "296ea74b-8eb8-492a-a1fe-b3e731726f40",
   "metadata": {},
   "outputs": [],
   "source": [
    "lr = LogisticRegression(max_iter=1200)\n",
    "lr.fit(X_train_tl, y_train_tl)\n",
    "y_pred_test_tl = lr.predict(X_test)\n",
    "\n",
    "print(\"The accuracy in the TEST set is: {:.2f}\".format(accuracy_score(y_test,y_pred_test_tl)))\n",
    "print(\"The precision in the TEST set is: {:.2f}\".format(precision_score(y_test,y_pred_test_tl)))\n",
    "print(\"The recall in the TEST set is: {:.2f}\".format(recall_score(y_test,y_pred_test_tl)))\n",
    "print(\"The F1 in the TEST set is: {:.2f}\".format(f1_score(y_test,y_pred_test_tl)))\n",
    "print(\"The Kappa in the TEST set is: {:.2f}\".format(cohen_kappa_score(y_test,y_pred_test_tl)))"
   ]
  },
  {
   "cell_type": "markdown",
   "id": "36ac8026-cac7-4b67-bdc6-7c7fb2e86443",
   "metadata": {
    "tags": []
   },
   "source": [
    "## Improve model"
   ]
  },
  {
   "cell_type": "markdown",
   "id": "be648315-0541-4939-9a18-e10ac0084dc0",
   "metadata": {
    "tags": []
   },
   "source": [
    "### Without outliers"
   ]
  },
  {
   "cell_type": "code",
   "execution_count": null,
   "id": "fe7d7369-4a0d-4f4b-a4bc-f32697b089bb",
   "metadata": {},
   "outputs": [],
   "source": [
    "summary_cols = ['balance_q1', 'balance_q2', 'balance_q3', 'balance_q4']"
   ]
  },
  {
   "cell_type": "code",
   "execution_count": null,
   "id": "9eb586db-799e-412f-8c2a-594bc55cc166",
   "metadata": {},
   "outputs": [],
   "source": [
    "summary = numerical_data[summary_cols].describe().T"
   ]
  },
  {
   "cell_type": "code",
   "execution_count": null,
   "id": "079b32e2-8d6d-4026-b6ed-e34fc4b353b5",
   "metadata": {},
   "outputs": [],
   "source": [
    "summary"
   ]
  },
  {
   "cell_type": "code",
   "execution_count": null,
   "id": "587be9f9-8aeb-4e41-b00c-7ba59b8941a3",
   "metadata": {},
   "outputs": [],
   "source": [
    "summary['IQR'] = summary['75%'] - summary['25%']"
   ]
  },
  {
   "cell_type": "code",
   "execution_count": null,
   "id": "eb152d71-040f-4516-946a-992294c517dc",
   "metadata": {},
   "outputs": [],
   "source": [
    "summary"
   ]
  },
  {
   "cell_type": "code",
   "execution_count": null,
   "id": "6501e9a1-c388-4f20-9474-f0f9d26c4fdd",
   "metadata": {},
   "outputs": [],
   "source": [
    "summary['upper_limit'] = summary['75%'] + 1.5 * summary['IQR']"
   ]
  },
  {
   "cell_type": "code",
   "execution_count": null,
   "id": "d7e82d49-ae02-41fb-9b41-e00a1b552578",
   "metadata": {},
   "outputs": [],
   "source": [
    "summary['lower_limit'] = summary['25%'] - 1.5 * summary['IQR']"
   ]
  },
  {
   "cell_type": "code",
   "execution_count": null,
   "id": "56ab422c-de88-40c8-a7d6-807227c37170",
   "metadata": {},
   "outputs": [],
   "source": [
    "summary"
   ]
  },
  {
   "cell_type": "code",
   "execution_count": null,
   "id": "d2a7c894-96b2-4836-a90b-63927e083502",
   "metadata": {},
   "outputs": [],
   "source": [
    "full_data.head()"
   ]
  },
  {
   "cell_type": "code",
   "execution_count": null,
   "id": "f0992476-2a98-4fae-b5e2-574dd1a9459b",
   "metadata": {},
   "outputs": [],
   "source": [
    "for column in summary_cols:\n",
    "    print(f'{column.upper()} total outliers: ')\n",
    "    print(full_data[(full_data[column] < summary.loc[column, 'lower_limit']) | (full_data[column] > summary.loc[column, 'upper_limit'])].shape[0])\n",
    "    print('----------' * 5)"
   ]
  },
  {
   "cell_type": "code",
   "execution_count": null,
   "id": "d9e85f52-ec84-4787-840e-4916f7374493",
   "metadata": {},
   "outputs": [],
   "source": [
    "full_data[(full_data['balance_q1'] < summary.loc['balance_q1', 'lower_limit']) | (full_data['balance_q1'] > summary.loc['balance_q1', 'upper_limit'])]"
   ]
  },
  {
   "cell_type": "code",
   "execution_count": null,
   "id": "591bd238-8892-4ae8-b04c-e388d6bac1de",
   "metadata": {},
   "outputs": [],
   "source": [
    "full_data[(full_data['balance_q2'] < summary.loc['balance_q2', 'lower_limit']) | (full_data['balance_q2'] > summary.loc['balance_q2', 'upper_limit'])]"
   ]
  },
  {
   "cell_type": "code",
   "execution_count": null,
   "id": "83aa7914-b40d-42c7-98da-00098de6582f",
   "metadata": {},
   "outputs": [],
   "source": [
    "full_data[(full_data['balance_q3'] < summary.loc['balance_q3', 'lower_limit']) | (full_data['balance_q3'] > summary.loc['balance_q3', 'upper_limit'])]"
   ]
  },
  {
   "cell_type": "code",
   "execution_count": null,
   "id": "d1909e02-1c50-4784-9225-253846118b4c",
   "metadata": {},
   "outputs": [],
   "source": [
    "full_data[(full_data['balance_q4'] < summary.loc['balance_q1', 'lower_limit']) | (full_data['balance_q4'] > summary.loc['balance_q4', 'upper_limit'])]"
   ]
  },
  {
   "cell_type": "code",
   "execution_count": null,
   "id": "fe850079-9c9e-488a-a18f-b39daca7e6cc",
   "metadata": {},
   "outputs": [],
   "source": [
    "def remove_outliers(df,columns):\n",
    "    for col in columns:\n",
    "        print('Working on column: {}'.format(col))\n",
    "        \n",
    "        df = df[(df[col] > summary.loc[col, 'lower_limit']) & (full_data[col] < summary.loc[col, 'upper_limit'])]\n",
    "        \n",
    "    return df"
   ]
  },
  {
   "cell_type": "code",
   "execution_count": null,
   "id": "082837fd-2403-4e4b-ac38-6df0f9c7d0ff",
   "metadata": {},
   "outputs": [],
   "source": [
    "full_data_no_outliers = remove_outliers(full_data, summary_cols)"
   ]
  },
  {
   "cell_type": "code",
   "execution_count": null,
   "id": "73aaa0ae-36ca-426c-84ca-75d5d283b9b2",
   "metadata": {},
   "outputs": [],
   "source": [
    "full_data_no_outliers.shape"
   ]
  },
  {
   "cell_type": "code",
   "execution_count": null,
   "id": "e2fa3441-387b-4c74-84d5-d36d841bba8f",
   "metadata": {},
   "outputs": [],
   "source": [
    "full_data_no_outliers = full_data_no_outliers.reset_index(drop = True)"
   ]
  },
  {
   "cell_type": "code",
   "execution_count": null,
   "id": "6c2791ad-5ef4-4ed3-830c-ead49e724d1d",
   "metadata": {},
   "outputs": [],
   "source": [
    "full_data_no_outliers"
   ]
  },
  {
   "cell_type": "code",
   "execution_count": null,
   "id": "1d2e699f-e6ae-431b-b347-5d4656dab99b",
   "metadata": {},
   "outputs": [],
   "source": [
    "for column in full_data_no_outliers.columns[6:10]:\n",
    "    sns.histplot(full_data_no_outliers[column], kde= True)\n",
    "    plt.show()"
   ]
  },
  {
   "cell_type": "code",
   "execution_count": null,
   "id": "62ae031a-9731-4992-ace4-f644b089c478",
   "metadata": {},
   "outputs": [],
   "source": [
    "X_no_outliers = full_data_no_outliers.drop(columns=['offer_accepted'])"
   ]
  },
  {
   "cell_type": "code",
   "execution_count": null,
   "id": "fd30a5a1-4df0-4d64-ae1d-ec716ef10e22",
   "metadata": {},
   "outputs": [],
   "source": [
    "X_no_outliers.shape"
   ]
  },
  {
   "cell_type": "code",
   "execution_count": null,
   "id": "108d82bd-6436-42cc-863a-31a6d464f7aa",
   "metadata": {},
   "outputs": [],
   "source": [
    "y_no_outliers = full_data_no_outliers['offer_accepted']"
   ]
  },
  {
   "cell_type": "code",
   "execution_count": null,
   "id": "0088d29c-c73c-44a9-ad56-5c92254d4756",
   "metadata": {},
   "outputs": [],
   "source": [
    "y_no_outliers.shape"
   ]
  },
  {
   "cell_type": "code",
   "execution_count": null,
   "id": "da7d5cd4-c1ab-4215-be5b-efec8df45558",
   "metadata": {},
   "outputs": [],
   "source": [
    "scaler = StandardScaler()"
   ]
  },
  {
   "cell_type": "code",
   "execution_count": null,
   "id": "d5787536-6764-40c9-8079-9bcf94377cd5",
   "metadata": {},
   "outputs": [],
   "source": [
    "# Split data\n",
    "X_train_no_out, X_test_no_out, y_train_no_out, y_test_no_out = train_test_split(X_no_outliers, y_no_outliers, test_size=0.2, random_state=42)"
   ]
  },
  {
   "cell_type": "code",
   "execution_count": null,
   "id": "bed86747-b780-4d30-a978-d843161efb53",
   "metadata": {},
   "outputs": [],
   "source": [
    "X_train_standard = scaler.fit_transform(X_train_no_out[summary_cols])"
   ]
  },
  {
   "cell_type": "code",
   "execution_count": null,
   "id": "2c7ae13e-286a-4736-8d9a-55b2c4e11061",
   "metadata": {},
   "outputs": [],
   "source": [
    "X_train_standard = pd.DataFrame(X_train_standard, columns=summary_cols)\n",
    "X_train_standard"
   ]
  },
  {
   "cell_type": "code",
   "execution_count": null,
   "id": "f37ab42c-b3e8-46b9-aec2-e389d4f24053",
   "metadata": {},
   "outputs": [],
   "source": [
    "logistic_reg.fit(X_train_no_out, y_train_no_out)"
   ]
  },
  {
   "cell_type": "code",
   "execution_count": null,
   "id": "956b3320-196b-46c5-bd74-fd7f47036248",
   "metadata": {},
   "outputs": [],
   "source": []
  },
  {
   "cell_type": "code",
   "execution_count": null,
   "id": "b256dcd8-61df-4998-aa7c-70a8e56173fd",
   "metadata": {},
   "outputs": [],
   "source": []
  },
  {
   "cell_type": "code",
   "execution_count": null,
   "id": "4a091451-3eec-4030-bdfa-2b324b1dcd2d",
   "metadata": {},
   "outputs": [],
   "source": [
    "train_pred_no_out = logistic_reg.predict(X_train_no_out)"
   ]
  },
  {
   "cell_type": "code",
   "execution_count": null,
   "id": "33b4acc2-4fde-4071-93eb-b285720b4614",
   "metadata": {},
   "outputs": [],
   "source": [
    "test_pred_no_out = logistic_reg.predict(X_test_no_out)"
   ]
  },
  {
   "cell_type": "code",
   "execution_count": null,
   "id": "0ac24953-ae7a-4a1b-b3c5-b9b9866a2b37",
   "metadata": {},
   "outputs": [],
   "source": [
    "print(\"Train accuracy no outliers model: {:.2f}\".format(logistic_reg.score(X_train_no_out, y_train_no_out)))\n",
    "print(\"Test accuracy no outliers model: {:.2f}\".format(logistic_reg.score(X_test_no_out, y_test_no_out)))"
   ]
  },
  {
   "cell_type": "code",
   "execution_count": null,
   "id": "6aecc7ae-b3f0-4fcf-8794-32e9c08d7cab",
   "metadata": {},
   "outputs": [],
   "source": []
  },
  {
   "cell_type": "code",
   "execution_count": null,
   "id": "0fb39bc0-f4c7-40d8-b199-a626af0750ee",
   "metadata": {},
   "outputs": [],
   "source": []
  },
  {
   "cell_type": "code",
   "execution_count": null,
   "id": "b1d34ff5-d6ed-4132-be4d-d04aa33a4f50",
   "metadata": {},
   "outputs": [],
   "source": []
  },
  {
   "cell_type": "code",
   "execution_count": null,
   "id": "52692a02-f2d5-405c-9694-2d5c36840360",
   "metadata": {},
   "outputs": [],
   "source": []
  },
  {
   "cell_type": "code",
   "execution_count": null,
   "id": "959ef88e-6229-473d-aa4a-668a9a76e2e1",
   "metadata": {},
   "outputs": [],
   "source": []
  },
  {
   "cell_type": "code",
   "execution_count": null,
   "id": "7e799873-de01-4087-847d-20e45e138721",
   "metadata": {},
   "outputs": [],
   "source": []
  },
  {
   "cell_type": "code",
   "execution_count": null,
   "id": "b69e0e54-846d-46a9-84a4-d075314b0e0d",
   "metadata": {},
   "outputs": [],
   "source": []
  },
  {
   "cell_type": "code",
   "execution_count": null,
   "id": "91a2e078-1f89-4491-a05f-146fce782457",
   "metadata": {},
   "outputs": [],
   "source": []
  },
  {
   "cell_type": "code",
   "execution_count": null,
   "id": "64ab1225-d121-44d3-91d3-42b28d6b8859",
   "metadata": {},
   "outputs": [],
   "source": []
  },
  {
   "cell_type": "markdown",
   "id": "275ed5f5-3b2b-41ee-a3f0-3ab805cf79f9",
   "metadata": {
    "jp-MarkdownHeadingCollapsed": true,
    "tags": []
   },
   "source": [
    "## KNN"
   ]
  },
  {
   "cell_type": "code",
   "execution_count": null,
   "id": "6b37f64f-0f60-4547-9d46-1981062a4ce6",
   "metadata": {},
   "outputs": [],
   "source": [
    "from sklearn.neighbors import KNeighborsClassifier"
   ]
  },
  {
   "cell_type": "code",
   "execution_count": null,
   "id": "ee74a375-fc09-4989-92ac-740e174d1527",
   "metadata": {},
   "outputs": [],
   "source": [
    "knn = KNeighborsClassifier(n_neighbors=10)"
   ]
  },
  {
   "cell_type": "code",
   "execution_count": null,
   "id": "4023582b-a14a-4ed1-8cf0-3ef3c122b13e",
   "metadata": {},
   "outputs": [],
   "source": [
    "knn.fit(X_train, y_train)"
   ]
  },
  {
   "cell_type": "code",
   "execution_count": null,
   "id": "63ac14ef-c0ef-433e-b449-07686e9439b6",
   "metadata": {},
   "outputs": [],
   "source": [
    "y_pred = knn.predict(X_test)"
   ]
  },
  {
   "cell_type": "code",
   "execution_count": null,
   "id": "720462f4-713c-40c6-ab91-97c74b5cc623",
   "metadata": {},
   "outputs": [],
   "source": [
    "accuracy = accuracy_score(y_test, y_pred)\n",
    "print(\"Accuracy:\", accuracy)"
   ]
  },
  {
   "cell_type": "code",
   "execution_count": null,
   "id": "bfb4dc5a-c2a0-4d8c-a5ba-c209c168899f",
   "metadata": {},
   "outputs": [],
   "source": []
  }
 ],
 "metadata": {
  "kernelspec": {
   "display_name": "ironhack",
   "language": "python",
   "name": "ironhack"
  },
  "language_info": {
   "codemirror_mode": {
    "name": "ipython",
    "version": 3
   },
   "file_extension": ".py",
   "mimetype": "text/x-python",
   "name": "python",
   "nbconvert_exporter": "python",
   "pygments_lexer": "ipython3",
   "version": "3.9.2"
  }
 },
 "nbformat": 4,
 "nbformat_minor": 5
}
